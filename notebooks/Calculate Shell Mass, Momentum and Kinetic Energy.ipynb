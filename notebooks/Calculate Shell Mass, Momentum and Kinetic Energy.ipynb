{
 "cells": [
  {
   "cell_type": "markdown",
   "metadata": {},
   "source": [
    "### Extract a Shell Mass Region  "
   ]
  },
  {
   "cell_type": "code",
   "execution_count": 1,
   "metadata": {
    "collapsed": true
   },
   "outputs": [],
   "source": [
    "%matplotlib inline\n",
    "import shell_model\n",
    "import astropy.units as u\n",
    "from astropy.coordinates import SkyCoord\n",
    "import shells\n",
    "import matplotlib.pyplot as plt\n",
    "import numpy as np\n",
    "from astropy.coordinates import Angle, SkyCoord\n",
    "from regions import PixCoord, CircleSkyRegion, CirclePixelRegion\n",
    "from spectral_cube import SpectralCube\n",
    "dist = 414*u.pc"
   ]
  },
  {
   "cell_type": "code",
   "execution_count": 2,
   "metadata": {
    "collapsed": false
   },
   "outputs": [],
   "source": [
    "# BEST-FIT PARAMETERS FOR SHELL 18\n",
    "r = 0.17 * u.pc\n",
    "dr = 0.25 * u.pc\n",
    "vexp = 4 * u.km/u.s\n",
    "v0 = 14.25 * u.km/u.s\n",
    "shell_center = SkyCoord(\"5h34m54.496s\",\"-5d04m40.05s\")\n",
    "ra, dec = shell_center.ra, shell_center.dec\n",
    "r_angle = (r / dist) * u.radian\n",
    "dr_angle = (dr / dist) * u.radian"
   ]
  },
  {
   "cell_type": "code",
   "execution_count": 3,
   "metadata": {
    "collapsed": false
   },
   "outputs": [
    {
     "name": "stdout",
     "output_type": "stream",
     "text": [
      "100611129.93136448 K km / s\n"
     ]
    },
    {
     "data": {
      "text/plain": [
       "(82, 40, 39)"
      ]
     },
     "execution_count": 3,
     "metadata": {},
     "output_type": "execute_result"
    },
    {
     "data": {
      "image/png": "[encoded data removed]",
      "text/plain": [
       "<matplotlib.figure.Figure at 0x107cd2a20>"
      ]
     },
     "metadata": {},
     "output_type": "display_data"
    }
   ],
   "source": [
    "cube = SpectralCube.read(\n",
    "    \"../nro_maps/12CO_20161002_FOREST-BEARS_spheroidal_xyb_grid7.5_0.099kms.fits\").subcube(\n",
    "        ra + r_angle + dr_angle / 2.,\n",
    "        ra - r_angle - dr_angle / 2.,\n",
    "        dec - r_angle - dr_angle / 2.,\n",
    "        dec + r_angle + dr_angle / 2.,\n",
    "        v0 - vexp,\n",
    "        v0 + vexp\n",
    "        )\n",
    "#print(cube)\n",
    "mom0 = cube.moment0()\n",
    "\n",
    "inner = CircleSkyRegion(\n",
    "    center=shell_center,\n",
    "    radius=r_angle - dr_angle / 2.\n",
    "    ).to_pixel(mom0.wcs).to_mask(mode='exact').to_image(mom0.shape)\n",
    "\n",
    "outer = CircleSkyRegion(\n",
    "    center=shell_center,\n",
    "    radius=r_angle + dr_angle / 2.,\n",
    "    ).to_pixel(cube.wcs).to_mask(mode='exact').to_image(mom0.shape)\n",
    "annulus = outer - inner\n",
    "plt.imshow(annulus*mom0.data, interpolation='none')\n",
    "plt.colorbar()\n",
    "print(np.sum(annulus*mom0.data)*u.K*u.km/u.s)\n",
    "shell_voxels = np.array([annulus*cube[i,:,:].data for i in range(cube.shape[0])])\n",
    "shell_voxels.shape\n"
   ]
  },
  {
   "cell_type": "code",
   "execution_count": 87,
   "metadata": {
    "collapsed": false
   },
   "outputs": [],
   "source": [
    "def extract_shell(cube=None, ra=None, dec=None,\n",
    "    r=None, dr=None, vexp=None, v0=None, mask_mode='exact', dist=414*u.pc,\n",
    "    subtract_inner=True):\n",
    "    \n",
    "    r_angle = (r / dist) * u.radian\n",
    "    dr_angle = (dr / dist) * u.radian\n",
    "    \n",
    "    cube = SpectralCube.read(cube).subcube(\n",
    "        ra + r_angle + dr_angle / 2.,\n",
    "        ra - r_angle - dr_angle / 2.,\n",
    "        dec - r_angle - dr_angle / 2.,\n",
    "        dec + r_angle + dr_angle / 2.,\n",
    "        v0 - vexp,\n",
    "        v0 + vexp\n",
    "        )\n",
    "    \n",
    "    #mom0 = cube.moment0()\n",
    "    \n",
    "    center = SkyCoord(ra, dec)\n",
    "    r_angle = u.rad * r / dist\n",
    "    dr_angle = u.rad * dr / dist\n",
    "    \n",
    "    mask_inner = CircleSkyRegion(\n",
    "        center=center,\n",
    "        radius=r_angle - dr_angle / 2.\n",
    "    ).to_pixel(cube.wcs).to_mask(mode=mask_mode).to_image(mom0.shape)\n",
    "    mask_outer = CircleSkyRegion(\n",
    "        center=center,\n",
    "        radius=r_angle + dr_angle / 2.\n",
    "    ).to_pixel(cube.wcs).to_mask(mode=mask_mode).to_image(mom0.shape)\n",
    "    \n",
    "    mask_annulus = mask_outer - mask_inner\n",
    "        \n",
    "    shell_voxels = np.array([mask_annulus*cube[i,:,:].data for i in range(cube.shape[0])])\n",
    "    \n",
    "\n",
    "    "
   ]
  },
  {
   "cell_type": "code",
   "execution_count": null,
   "metadata": {
    "collapsed": false
   },
   "outputs": [],
   "source": []
  },
  {
   "cell_type": "code",
   "execution_count": null,
   "metadata": {
    "collapsed": true
   },
   "outputs": [],
   "source": []
  }
 ],
 "metadata": {
  "kernelspec": {
   "display_name": "Python 3",
   "language": "python",
   "name": "python3"
  },
  "language_info": {
   "codemirror_mode": {
    "name": "ipython",
    "version": 3
   },
   "file_extension": ".py",
   "mimetype": "text/x-python",
   "name": "python",
   "nbconvert_exporter": "python",
   "pygments_lexer": "ipython3",
   "version": "3.4.5"
  }
 },
 "nbformat": 4,
 "nbformat_minor": 0
}
