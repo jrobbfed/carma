{
 "cells": [
  {
   "cell_type": "code",
   "execution_count": 1,
   "metadata": {},
   "outputs": [
    {
     "ename": "SyntaxError",
     "evalue": "invalid syntax (shells.py, line 630)",
     "output_type": "error",
     "traceback": [
      "\u001b[0;36m  File \u001b[0;32m\"/net/arce/jrf57/carma/code/shells.py\"\u001b[0;36m, line \u001b[0;32m630\u001b[0m\n\u001b[0;31m    <<<<<<< HEAD\u001b[0m\n\u001b[0m     ^\u001b[0m\n\u001b[0;31mSyntaxError\u001b[0m\u001b[0;31m:\u001b[0m invalid syntax\n"
     ]
    }
   ],
   "source": [
    "%matplotlib inline\n",
    "from spectral_cube import SpectralCube\n",
    "from aplpy import FITSFigure\n",
    "import numpy as np\n",
    "import os\n",
    "from astropy.io import fits\n",
    "import warnings\n",
    "import numpy as np\n",
    "import shells\n",
    "import shell_model\n",
    "import matplotlib.pyplot as plt\n",
    "warnings.filterwarnings('ignore')"
   ]
  },
  {
   "cell_type": "markdown",
   "metadata": {},
   "source": [
    "## Fixing Model Cloud Parameters for Orion A\n",
    "distance: 414 pc (Menten+ 2007)\n",
    "\n",
    "thickness: 1 pc (upper limit: ~ largest shell radius\n",
    "\n",
    "fwhm: 4 km/s (from maps below)\n",
    "\n",
    "beta: 2 power spectrum (http://adsabs.harvard.edu/abs/1994ApJ...429..645M)"
   ]
  },
  {
   "cell_type": "markdown",
   "metadata": {},
   "source": [
    "### Calculate Velocity FWHM from NRO Data"
   ]
  },
  {
   "cell_type": "code",
   "execution_count": null,
   "metadata": {
    "collapsed": true
   },
   "outputs": [],
   "source": [
    "cubefile12co = \"../nro_maps/12CO_20161017_FOREST-BEARS_spheroidal_xyb_grid7.5_0.099kms_YS.fits\"\n",
    "regionfile = \"../shell_candidates/AllShells.reg\""
   ]
  },
  {
   "cell_type": "code",
   "execution_count": null,
   "metadata": {
    "collapsed": true
   },
   "outputs": [],
   "source": [
    "cube = SpectralCube.read(cubefile12co)\n",
    "mom0_map = cube.moment0()\n",
    "fwhm_map = cube.linewidth_fwhm() "
   ]
  },
  {
   "cell_type": "code",
   "execution_count": null,
   "metadata": {
    "collapsed": true
   },
   "outputs": [],
   "source": [
    "print(np.nanmedian(fwhm_map))\n",
    "\n",
    "fig = FITSFigure(fwhm_map.hdu)\n",
    "fig.show_grayscale(vmin=0, vmax=10000)\n",
    "fig.recenter(83.72707, -5.07792, 0.1)\n",
    "fig.show_colorbar()\n",
    "fig.colorbar.set_axis_label_text(\"FWHM (m/s)\")"
   ]
  },
  {
   "cell_type": "markdown",
   "metadata": {},
   "source": [
    "### Smooth the Velocity FWHM Map For a Global Estimate of FWHM in Orion A"
   ]
  },
  {
   "cell_type": "code",
   "execution_count": null,
   "metadata": {
    "collapsed": true
   },
   "outputs": [],
   "source": [
    "from scipy.ndimage.filters import gaussian_filter\n",
    "fwhm_smooth = gaussian_filter(fwhm_map.data, 1)\n",
    "print(np.nanmedian(fwhm_smooth))\n",
    "fig = FITSFigure(fwhm_smooth)\n",
    "fig.show_grayscale()\n",
    "#fig.recenter(83.72707, -5.07792, 0.1)\n",
    "fig.show_colorbar()\n",
    "fig.colorbar.set_axis_label_text(\"FWHM (m/s)\")"
   ]
  },
  {
   "cell_type": "markdown",
   "metadata": {
    "collapsed": true
   },
   "source": [
    "### Plot an example turbulent model cube."
   ]
  },
  {
   "cell_type": "code",
   "execution_count": null,
   "metadata": {
    "collapsed": true
   },
   "outputs": [],
   "source": [
    "# For Shell 18\n",
    "outfile = '../turbulent_model/shell18_ppv.fits'\n",
    "model_pars = {\n",
    "    'outfile':\"'{}'\".format(outfile),\n",
    "    'dist':414, # pc\n",
    "    'pix_size':7.5, # arcsec\n",
    "    'vstep':0.099, # km/s\n",
    "    'acen':83.72707, # deg\n",
    "    'dcen':-5.07792, # deg\n",
    "    'thickness':1., # pc\n",
    "    'fwhm':4.0, # km/s\n",
    "    'beta':0.0, # spectral index\n",
    "    'r':0.31, # pc\n",
    "    'dr':0.2, # pc\n",
    "    'vexp':1.6, # km/s\n",
    "    'depth_offset':0.0, # pc\n",
    "    'vel_offset':0.0, # km/s\n",
    "    'v0':13.6 # km/s\n",
    "             }\n",
    "idl_arg_list = [\"{}={}\".format(k, v) for k, v in model_pars.items()]\n",
    "\n",
    "idl_arg_string = ', '.join(idl_arg_list)\n",
    "#call_string = \"idl << EOF \\n\" +\\\n",
    "#              \".r turbulent_model \\n\" +\\\n",
    "#              \"turbulent_model, {} \\n\".format(idl_arg_string) +\\\n",
    "#              \"EOF\"\n",
    "call_string = 'idl -e \"turbulent_model, {}\"'.format(idl_arg_string)"
   ]
  },
  {
   "cell_type": "code",
   "execution_count": null,
   "metadata": {
    "collapsed": true
   },
   "outputs": [],
   "source": [
    "#Call the idl program turbulent_model.pro with the above parameters\n",
    "e = os.system(call_string)"
   ]
  },
  {
   "cell_type": "markdown",
   "metadata": {},
   "source": [
    "### Integrated Intensity (Column Density) of Model Shell"
   ]
  },
  {
   "cell_type": "code",
   "execution_count": null,
   "metadata": {
    "collapsed": true
   },
   "outputs": [],
   "source": [
    "model_cube = SpectralCube.read(outfile)\n",
    "model_mom0 = model_cube.moment0()"
   ]
  },
  {
   "cell_type": "code",
   "execution_count": null,
   "metadata": {
    "collapsed": true
   },
   "outputs": [],
   "source": [
    "fig = FITSFigure(model_mom0.hdu)\n",
    "fig.show_grayscale()\n",
    "cb = fig.show_colorbar()\n",
    "fig.set_title(\"r = {}, dr = {}, vexp = {}\".format(model_pars['r'], model_pars['dr'], model_pars['vexp']))"
   ]
  },
  {
   "cell_type": "markdown",
   "metadata": {
    "collapsed": true
   },
   "source": [
    "### Extract a subcube around an Orion A shell"
   ]
  },
  {
   "cell_type": "code",
   "execution_count": null,
   "metadata": {
    "collapsed": true
   },
   "outputs": [],
   "source": [
    "n = 17\n",
    "shell_list = shells.get_shells()\n",
    "subcubes = shells.subcubes_from_ds9(cube=cubefile12co, region_file=regionfile, pad_factor=1.5, shape='square')\n",
    "shell = shell_list[n]\n",
    "shell_subcube = subcubes[n].spectral_slab(shell.vmin, shell.vmax)\n",
    "shell_mom0 = shell_subcube.moment0()"
   ]
  },
  {
   "cell_type": "code",
   "execution_count": null,
   "metadata": {
    "collapsed": true
   },
   "outputs": [],
   "source": [
    "fig = FITSFigure(shell_mom0.hdu)\n",
    "fig.show_grayscale()\n",
    "cb = fig.show_colorbar()\n",
    "fig.set_title(\"Shell 18 12CO: r = {}, dr = {}, vexp = {}\".format(model_pars['r'], model_pars['dr'], model_pars['vexp']))\n",
    "fig.show_contour(model_mom0.hdu, levels=10)"
   ]
  },
  {
   "cell_type": "code",
   "execution_count": null,
   "metadata": {
    "collapsed": true
   },
   "outputs": [],
   "source": [
    "model_profile, model_profile_error, model_bins = shell_model.radial_profile(np.array(model_mom0), nbins=30)\n",
    "shell_profile, shell_profile_error, shell_bins = shell_model.radial_profile(np.array(shell_mom0), nbins=30)"
   ]
  },
  {
   "cell_type": "code",
   "execution_count": null,
   "metadata": {
    "collapsed": true
   },
   "outputs": [],
   "source": [
    "fig = plt.figure(figsize=(12,6))\n",
    "ax1 = fig.add_subplot(121)\n",
    "ax1.errorbar(model_bins*model_pars['pix_size']/60., model_profile,\n",
    "             yerr=model_profile_error, linestyle=\"dotted\", label=\"S.E.M.\")\n",
    "ax1.set_xlabel(\"Radius [arcmin]\")\n",
    "ax1.set_ylabel(\"Averaged Integrated Intensity\")\n",
    "ax1.set_title(\"Radial Profile of Model: r = {}, dr = {}\".format(model_pars['r'], model_pars['dr']))\n",
    "\n",
    "ax2 = fig.add_subplot(122)\n",
    "ax2.errorbar(shell_bins*model_pars['pix_size']/60., shell_profile,\n",
    "             yerr=shell_profile_error, linestyle=\"dotted\", label=\"S.E.M.\")\n",
    "ax2.set_xlabel(\"Radius [arcmin]\")\n",
    "ax2.set_ylabel(\"Averaged Integrated Intensity [K m/s]\")\n",
    "ax2.set_title(\"Radial Profile of Shell 18\".format(model_pars['r'], model_pars['dr']))"
   ]
  },
  {
   "cell_type": "markdown",
   "metadata": {},
   "source": [
    "### Plot the normalized profiles against each other."
   ]
  },
  {
   "cell_type": "code",
   "execution_count": null,
   "metadata": {
    "collapsed": true
   },
   "outputs": [],
   "source": [
    "fig = plt.figure(figsize=(12,6))\n",
    "plt.plot(model_bins*model_pars['pix_size']/60., model_profile/np.nanmax(model_profile),\n",
    "             linestyle=\"dotted\", label=\"Model\")\n",
    "plt.plot(shell_bins*model_pars['pix_size']/60., shell_profile/np.nanmax(shell_profile),\n",
    "             linestyle=\"dashed\", label=\"Shell 18\")\n",
    "plt.xlabel(\"Radius [arcmin]\")\n",
    "plt.ylabel(\"Averaged Integrated Intensity\")\n",
    "plt.title(\"Radial Profile of Model: r = {}, dr = {}\".format(model_pars['r'], model_pars['dr']))"
   ]
  }
 ],
 "metadata": {
  "anaconda-cloud": {},
  "kernelspec": {
   "display_name": "Python 3",
   "language": "python",
   "name": "python3"
  },
  "language_info": {
   "codemirror_mode": {
    "name": "ipython",
    "version": 3
   },
   "file_extension": ".py",
   "mimetype": "text/x-python",
   "name": "python",
   "nbconvert_exporter": "python",
   "pygments_lexer": "ipython3",
   "version": "3.5.3"
  }
 },
 "nbformat": 4,
 "nbformat_minor": 1
}
