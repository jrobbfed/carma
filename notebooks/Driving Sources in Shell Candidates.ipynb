{
 "cells": [
  {
   "cell_type": "code",
   "execution_count": null,
   "metadata": {
    "collapsed": false
   },
   "outputs": [],
   "source": [
    "%matplotlib inline\n",
    "%gui qt\n",
    "import warnings\n",
    "warnings.filterwarnings('ignore')\n",
    "from spectral_cube import SpectralCube\n",
    "import spectral_cube\n",
    "import pyregion\n",
    "from glue import qglue\n",
    "#spectral_cube.version.version"
   ]
  },
  {
   "cell_type": "code",
   "execution_count": null,
   "metadata": {
    "collapsed": false,
    "scrolled": true
   },
   "outputs": [],
   "source": [
    "nro_13co_cube = SpectralCube.read('../nro_maps/13CO_20160904_FOREST_xyb_spheroidal_0254kms_YS.fits')\n",
    "nro_12co_cube = SpectralCube.read('../nro_maps/12CO_20160905_BEARS_FOREST_xyb_spheroidal_0254kms_YS.fits')\n",
    "ds9_file = '../nro_maps/SouthShells.reg'"
   ]
  },
  {
   "cell_type": "code",
   "execution_count": null,
   "metadata": {
    "collapsed": false,
    "scrolled": true
   },
   "outputs": [],
   "source": [
    "nro_12co_cube[100,:,:].quicklook()"
   ]
  },
  {
   "cell_type": "markdown",
   "metadata": {},
   "source": [
    "### Glue Visualization of $^{12}$CO and $^{13}$CO Full Cubes"
   ]
  },
  {
   "cell_type": "code",
   "execution_count": null,
   "metadata": {
    "collapsed": false,
    "scrolled": true
   },
   "outputs": [],
   "source": [
    "nro_12co_data = nro_12co_cube.unmasked_data[:]\n",
    "nro_13co_data = nro_13co_cube.unmasked_data[:]\n",
    "#app_full=qglue(nro_12co=nro_12co_data, nro_13co=nro_13co_data)\n"
   ]
  },
  {
   "cell_type": "markdown",
   "metadata": {
    "collapsed": true
   },
   "source": [
    "### Extracting subcubes around shell candidates.\n",
    "Using spectral-cube and pyregion python packages with ds9 region file of circles around shell candidates.\n",
    "\n",
    "\n",
    "http://spectral-cube.readthedocs.io/en/latest/manipulating.html#extracting-a-subcube-from-a-ds9-region"
   ]
  },
  {
   "cell_type": "code",
   "execution_count": null,
   "metadata": {
    "collapsed": false
   },
   "outputs": [],
   "source": [
    "import pyregion\n",
    "import copy\n",
    "region_file = '../nro_maps/SouthShells.reg'\n",
    "region_list = pyregion.open('../nro_maps/SouthShells.reg')"
   ]
  },
  {
   "cell_type": "code",
   "execution_count": null,
   "metadata": {
    "collapsed": false
   },
   "outputs": [],
   "source": [
    "def subcubes_from_ds9(cube, region_file='../nro_maps/SouthShells.reg', pad_factor=1., shape='exact'):\n",
    "    \"\"\"\n",
    "    Parameters\n",
    "    ----------\n",
    "    cube: SpectralCube\n",
    "        The cube to be chopped. Must be type spectral_cube.SpectralCube.\n",
    "    region_file: str\n",
    "        Path to a ds9 region file.\n",
    "    pad_factor: float, optional\n",
    "        Expand the subcube around the region by this factor.\n",
    "    shape: {'square', 'exact'}\n",
    "        The shape of the subcube returned. 'square' returns the\n",
    "        smallest square subcube that contains the region.\n",
    "        'exact' returns only the pixels contained within the region.\n",
    "    \n",
    "    Returns\n",
    "    --------\n",
    "    subcubes: list of SpectralCube of SpectralCube\n",
    "    \"\"\"\n",
    "    from spectral_cube import SpectralCube\n",
    "    import pyregion\n",
    "\n",
    "    if shape == 'square':\n",
    "        import astropy.units as u\n",
    "        subcube_list = []\n",
    "        region_list = pyregion.open(region_file)\n",
    "        for region in region_list:\n",
    "            half_width = region.coord_list[2] * pad_factor * u.deg\n",
    "            ra_center = region.coord_list[0] * u.deg\n",
    "            dec_center = region.coord_list[1] * u.deg\n",
    "            ra_range = [ra_center - half_width, ra_center + half_width]\n",
    "            dec_range = [dec_center - half_width, dec_center + half_width]\n",
    "            #print(ra_range, dec_range)\n",
    "            subcube_list.append(cube.subcube(ra_range[1], ra_range[0], dec_range[0], dec_range[1]))\n",
    "    if shape == 'exact':\n",
    "        region_list = pyregion.open(region_file)\n",
    "        subcube_list = []\n",
    "        for region in region_list:\n",
    "            \n",
    "            if pad_factor != 1.:\n",
    "                new_string = '{};{}({},{},{}\")'.format(region.coord_format, region.name,\n",
    "                                region.coord_list[0], region.coord_list[1],\n",
    "                                region.coord_list[2]*3600.*pad_factor)\n",
    "                region = pyregion.parse(new_string)[0]\n",
    "                \n",
    "            subcube_list.append(cube.subcube_from_ds9region(pyregion.ShapeList([region])))\n",
    "    if len(subcube_list) == 1:\n",
    "        return subcube_list[0]\n",
    "    else:\n",
    "        return subcube_list\n"
   ]
  },
  {
   "cell_type": "markdown",
   "metadata": {},
   "source": [
    "### Plot shell candidates\n"
   ]
  },
  {
   "cell_type": "code",
   "execution_count": null,
   "metadata": {
    "collapsed": true
   },
   "outputs": [],
   "source": [
    "import aplpy\n",
    "from glue.app.qt.application import GlueApplication\n",
    "nro_12co_subcube_list = subcubes_from_ds9(nro_12co_cube, shape='square', pad_factor=1.2)\n",
    "#mom0_12co = nro_12co_subcube_list[5].moment(order=0)\n",
    "#f = aplpy.FITSFigure(nro_12co_subcube_list[1][110].hdu)\n",
    "#f.show_colorscale(cmap='gray')\n",
    "#f.show_colorbar()\n",
    "#glue_subcubes=qglue()\n",
    "nro_12co_subcube_list[100,:,:].quicklook()"
   ]
  },
  {
   "cell_type": "markdown",
   "metadata": {},
   "source": [
    "### Send Shell Candidates to Glue"
   ]
  },
  {
   "cell_type": "code",
   "execution_count": 8,
   "metadata": {
    "collapsed": false
   },
   "outputs": [
    {
     "name": "stderr",
     "output_type": "stream",
     "text": [
      "WARNING: Error drawing visual <Mesh at 0x13169cda0>\n",
      "WARNING: Error drawing visual <Mesh at 0x13169cda0>\n",
      "WARNING: Traceback (most recent call last):\n",
      "  File \"//anaconda/lib/python3.4/runpy.py\", line 170, in _run_module_as_main\n",
      "    \"__main__\", mod_spec)\n",
      "  File \"//anaconda/lib/python3.4/runpy.py\", line 85, in _run_code\n",
      "    exec(code, run_globals)\n",
      "  File \"//anaconda/lib/python3.4/site-packages/ipykernel/__main__.py\", line 3, in <module>\n",
      "    app.launch_new_instance()\n",
      "  File \"//anaconda/lib/python3.4/site-packages/traitlets/config/application.py\", line 596, in launch_instance\n",
      "    app.start()\n",
      "  File \"//anaconda/lib/python3.4/site-packages/ipykernel/kernelapp.py\", line 442, in start\n",
      "    ioloop.IOLoop.instance().start()\n",
      "  File \"//anaconda/lib/python3.4/site-packages/zmq/eventloop/ioloop.py\", line 162, in start\n",
      "    super(ZMQIOLoop, self).start()\n",
      "  File \"//anaconda/lib/python3.4/site-packages/tornado/ioloop.py\", line 831, in start\n",
      "    self._run_callback(callback)\n",
      "  File \"//anaconda/lib/python3.4/site-packages/tornado/ioloop.py\", line 604, in _run_callback\n",
      "    ret = callback()\n",
      "  File \"//anaconda/lib/python3.4/site-packages/tornado/stack_context.py\", line 275, in null_wrapper\n",
      "    return fn(*args, **kwargs)\n",
      "  File \"//anaconda/lib/python3.4/site-packages/ipykernel/kernelbase.py\", line 258, in enter_eventloop\n",
      "    self.eventloop(self)\n",
      "  File \"//anaconda/lib/python3.4/site-packages/ipykernel/eventloops.py\", line 75, in loop_qt4\n",
      "    start_event_loop_qt4(kernel.app)\n",
      "  File \"//anaconda/lib/python3.4/site-packages/IPython/lib/guisupport.py\", line 135, in start_event_loop_qt4\n",
      "    app.exec_()\n",
      "  File \"//anaconda/lib/python3.4/site-packages/glue_vispy_viewers/extern/vispy/app/backends/_qt.py\", line 431, in event\n",
      "    out = super(QtBaseCanvasBackend, self).event(ev)\n",
      "  File \"//anaconda/lib/python3.4/site-packages/glue_vispy_viewers/extern/vispy/app/backends/_qt.py\", line 703, in paintGL\n",
      "    self._vispy_canvas.events.draw(region=None)\n",
      "  File \"//anaconda/lib/python3.4/site-packages/glue_vispy_viewers/extern/vispy/util/event.py\", line 455, in __call__\n",
      "    self._invoke_callback(cb, event)\n",
      "  File \"//anaconda/lib/python3.4/site-packages/glue_vispy_viewers/extern/vispy/util/event.py\", line 475, in _invoke_callback\n",
      "    self, cb_event=(cb, event))\n",
      "  << caught exception here: >>\n",
      "  File \"//anaconda/lib/python3.4/site-packages/glue_vispy_viewers/extern/vispy/util/event.py\", line 471, in _invoke_callback\n",
      "    cb(event)\n",
      "  File \"//anaconda/lib/python3.4/site-packages/glue_vispy_viewers/extern/vispy/scene/canvas.py\", line 207, in on_draw\n",
      "    self._draw_scene()\n",
      "  File \"//anaconda/lib/python3.4/site-packages/glue_vispy_viewers/extern/vispy/scene/canvas.py\", line 253, in _draw_scene\n",
      "    self.draw_visual(self.scene)\n",
      "  File \"//anaconda/lib/python3.4/site-packages/glue_vispy_viewers/extern/vispy/scene/canvas.py\", line 291, in draw_visual\n",
      "    node.draw()\n",
      "  File \"//anaconda/lib/python3.4/site-packages/glue_vispy_viewers/extern/vispy/scene/visuals.py\", line 98, in draw\n",
      "    self._visual_superclass.draw(self)\n",
      "  File \"//anaconda/lib/python3.4/site-packages/glue_vispy_viewers/extern/vispy/visuals/mesh.py\", line 387, in draw\n",
      "    Visual.draw(self, *args, **kwds)\n",
      "  File \"//anaconda/lib/python3.4/site-packages/glue_vispy_viewers/extern/vispy/visuals/visual.py\", line 440, in draw\n",
      "    self._vshare.index_buffer)\n",
      "  File \"//anaconda/lib/python3.4/site-packages/glue_vispy_viewers/extern/vispy/visuals/shaders/program.py\", line 77, in draw\n",
      "    Program.draw(self, *args, **kwargs)\n",
      "  File \"//anaconda/lib/python3.4/site-packages/glue_vispy_viewers/extern/vispy/gloo/program.py\", line 470, in draw\n",
      "    canvas.context.flush_commands()\n",
      "  File \"//anaconda/lib/python3.4/site-packages/glue_vispy_viewers/extern/vispy/gloo/context.py\", line 171, in flush_commands\n",
      "    self.glir.flush(self.shared.parser)\n",
      "  File \"//anaconda/lib/python3.4/site-packages/glue_vispy_viewers/extern/vispy/gloo/glir.py\", line 232, in flush\n",
      "    self._shared.flush(parser)\n",
      "  File \"//anaconda/lib/python3.4/site-packages/glue_vispy_viewers/extern/vispy/gloo/glir.py\", line 146, in flush\n",
      "    parser.parse(self._filter(self.clear(), parser))\n",
      "  File \"//anaconda/lib/python3.4/site-packages/glue_vispy_viewers/extern/vispy/gloo/glir.py\", line 458, in parse\n",
      "    self._parse(command)\n",
      "  File \"//anaconda/lib/python3.4/site-packages/glue_vispy_viewers/extern/vispy/gloo/glir.py\", line 420, in _parse\n",
      "    ob.draw(*args)\n",
      "  File \"//anaconda/lib/python3.4/site-packages/glue_vispy_viewers/extern/vispy/gloo/glir.py\", line 899, in draw\n",
      "    gl.check_error('Check before draw')\n",
      "  File \"//anaconda/lib/python3.4/site-packages/glue_vispy_viewers/extern/vispy/gloo/gl/__init__.py\", line 211, in check_error\n",
      "    raise err\n",
      "RuntimeError: OpenGL got errors (Check before draw): GL_INVALID_FRAMEBUFFER_OPERATION\n",
      "WARNING: Traceback (most recent call last):\n",
      "  File \"//anaconda/lib/python3.4/runpy.py\", line 170, in _run_module_as_main\n",
      "    \"__main__\", mod_spec)\n",
      "  File \"//anaconda/lib/python3.4/runpy.py\", line 85, in _run_code\n",
      "    exec(code, run_globals)\n",
      "  File \"//anaconda/lib/python3.4/site-packages/ipykernel/__main__.py\", line 3, in <module>\n",
      "    app.launch_new_instance()\n",
      "  File \"//anaconda/lib/python3.4/site-packages/traitlets/config/application.py\", line 596, in launch_instance\n",
      "    app.start()\n",
      "  File \"//anaconda/lib/python3.4/site-packages/ipykernel/kernelapp.py\", line 442, in start\n",
      "    ioloop.IOLoop.instance().start()\n",
      "  File \"//anaconda/lib/python3.4/site-packages/zmq/eventloop/ioloop.py\", line 162, in start\n",
      "    super(ZMQIOLoop, self).start()\n",
      "  File \"//anaconda/lib/python3.4/site-packages/tornado/ioloop.py\", line 831, in start\n",
      "    self._run_callback(callback)\n",
      "  File \"//anaconda/lib/python3.4/site-packages/tornado/ioloop.py\", line 604, in _run_callback\n",
      "    ret = callback()\n",
      "  File \"//anaconda/lib/python3.4/site-packages/tornado/stack_context.py\", line 275, in null_wrapper\n",
      "    return fn(*args, **kwargs)\n",
      "  File \"//anaconda/lib/python3.4/site-packages/ipykernel/kernelbase.py\", line 258, in enter_eventloop\n",
      "    self.eventloop(self)\n",
      "  File \"//anaconda/lib/python3.4/site-packages/ipykernel/eventloops.py\", line 75, in loop_qt4\n",
      "    start_event_loop_qt4(kernel.app)\n",
      "  File \"//anaconda/lib/python3.4/site-packages/IPython/lib/guisupport.py\", line 135, in start_event_loop_qt4\n",
      "    app.exec_()\n",
      "  File \"//anaconda/lib/python3.4/site-packages/glue_vispy_viewers/extern/vispy/app/backends/_qt.py\", line 431, in event\n",
      "    out = super(QtBaseCanvasBackend, self).event(ev)\n",
      "  File \"//anaconda/lib/python3.4/site-packages/glue_vispy_viewers/extern/vispy/app/backends/_qt.py\", line 703, in paintGL\n",
      "    self._vispy_canvas.events.draw(region=None)\n",
      "  File \"//anaconda/lib/python3.4/site-packages/glue_vispy_viewers/extern/vispy/util/event.py\", line 455, in __call__\n",
      "    self._invoke_callback(cb, event)\n",
      "  File \"//anaconda/lib/python3.4/site-packages/glue_vispy_viewers/extern/vispy/util/event.py\", line 475, in _invoke_callback\n",
      "    self, cb_event=(cb, event))\n",
      "  << caught exception here: >>\n",
      "  File \"//anaconda/lib/python3.4/site-packages/glue_vispy_viewers/extern/vispy/util/event.py\", line 471, in _invoke_callback\n",
      "    cb(event)\n",
      "  File \"//anaconda/lib/python3.4/site-packages/glue_vispy_viewers/extern/vispy/scene/canvas.py\", line 207, in on_draw\n",
      "    self._draw_scene()\n",
      "  File \"//anaconda/lib/python3.4/site-packages/glue_vispy_viewers/extern/vispy/scene/canvas.py\", line 253, in _draw_scene\n",
      "    self.draw_visual(self.scene)\n",
      "  File \"//anaconda/lib/python3.4/site-packages/glue_vispy_viewers/extern/vispy/scene/canvas.py\", line 291, in draw_visual\n",
      "    node.draw()\n",
      "  File \"//anaconda/lib/python3.4/site-packages/glue_vispy_viewers/extern/vispy/scene/visuals.py\", line 98, in draw\n",
      "    self._visual_superclass.draw(self)\n",
      "  File \"//anaconda/lib/python3.4/site-packages/glue_vispy_viewers/extern/vispy/visuals/mesh.py\", line 387, in draw\n",
      "    Visual.draw(self, *args, **kwds)\n",
      "  File \"//anaconda/lib/python3.4/site-packages/glue_vispy_viewers/extern/vispy/visuals/visual.py\", line 440, in draw\n",
      "    self._vshare.index_buffer)\n",
      "  File \"//anaconda/lib/python3.4/site-packages/glue_vispy_viewers/extern/vispy/visuals/shaders/program.py\", line 77, in draw\n",
      "    Program.draw(self, *args, **kwargs)\n",
      "  File \"//anaconda/lib/python3.4/site-packages/glue_vispy_viewers/extern/vispy/gloo/program.py\", line 470, in draw\n",
      "    canvas.context.flush_commands()\n",
      "  File \"//anaconda/lib/python3.4/site-packages/glue_vispy_viewers/extern/vispy/gloo/context.py\", line 171, in flush_commands\n",
      "    self.glir.flush(self.shared.parser)\n",
      "  File \"//anaconda/lib/python3.4/site-packages/glue_vispy_viewers/extern/vispy/gloo/glir.py\", line 232, in flush\n",
      "    self._shared.flush(parser)\n",
      "  File \"//anaconda/lib/python3.4/site-packages/glue_vispy_viewers/extern/vispy/gloo/glir.py\", line 146, in flush\n",
      "    parser.parse(self._filter(self.clear(), parser))\n",
      "  File \"//anaconda/lib/python3.4/site-packages/glue_vispy_viewers/extern/vispy/gloo/glir.py\", line 458, in parse\n",
      "    self._parse(command)\n",
      "  File \"//anaconda/lib/python3.4/site-packages/glue_vispy_viewers/extern/vispy/gloo/glir.py\", line 420, in _parse\n",
      "    ob.draw(*args)\n",
      "  File \"//anaconda/lib/python3.4/site-packages/glue_vispy_viewers/extern/vispy/gloo/glir.py\", line 899, in draw\n",
      "    gl.check_error('Check before draw')\n",
      "  File \"//anaconda/lib/python3.4/site-packages/glue_vispy_viewers/extern/vispy/gloo/gl/__init__.py\", line 211, in check_error\n",
      "    raise err\n",
      "RuntimeError: OpenGL got errors (Check before draw): GL_INVALID_FRAMEBUFFER_OPERATION\n",
      "ERROR: Invoking <bound method SceneCanvas.on_draw of <SceneCanvas (PyQt4) at 0x1316c88d0>> for DrawEvent\n",
      "ERROR: Invoking <bound method SceneCanvas.on_draw of <SceneCanvas (PyQt4) at 0x1316c88d0>> for DrawEvent\n"
     ]
    }
   ],
   "source": [
    "for subcube in nro_12co_subcube_list:\n",
    "    subcube.to_glue()\n",
    "    \n",
    "#nro_12co_subcube_list[1].to_glue(name='shell_2')"
   ]
  },
  {
   "cell_type": "code",
   "execution_count": null,
   "metadata": {
    "collapsed": false
   },
   "outputs": [],
   "source": [
    "#a??"
   ]
  },
  {
   "cell_type": "code",
   "execution_count": null,
   "metadata": {
    "collapsed": false
   },
   "outputs": [],
   "source": [
    "#nro_12co_subcube_list[2].to_glue(name='shell_3', glue_app=a)\n",
    "\n",
    "#f.save('moment_0.png')"
   ]
  },
  {
   "cell_type": "markdown",
   "metadata": {},
   "source": [
    "### Return sources from Spitzer Orion fits table that fall within each shell subcube."
   ]
  },
  {
   "cell_type": "code",
   "execution_count": null,
   "metadata": {
    "collapsed": false
   },
   "outputs": [],
   "source": [
    "from astropy.io import fits\n",
    "spitzer_orion_file = '../catalogs/spitzer_orion.fits'\n",
    "f = fits.open(spitzer_orion_file)\n",
    "#f[1].fields\n",
    "#yso_list = []\n",
    "#for subcube in nro_12co_subcube_list:\n",
    "#   \n",
    "#    yso_list.append(yso)"
   ]
  },
  {
   "cell_type": "markdown",
   "metadata": {},
   "source": [
    "### Extract Spitzer postage stamps around shell candidates."
   ]
  },
  {
   "cell_type": "code",
   "execution_count": null,
   "metadata": {
    "collapsed": true
   },
   "outputs": [],
   "source": []
  }
 ],
 "metadata": {
  "kernelspec": {
   "display_name": "Python 3",
   "language": "python",
   "name": "python3"
  },
  "language_info": {
   "codemirror_mode": {
    "name": "ipython",
    "version": 3
   },
   "file_extension": ".py",
   "mimetype": "text/x-python",
   "name": "python",
   "nbconvert_exporter": "python",
   "pygments_lexer": "ipython3",
   "version": "3.4.5"
  }
 },
 "nbformat": 4,
 "nbformat_minor": 0
}
