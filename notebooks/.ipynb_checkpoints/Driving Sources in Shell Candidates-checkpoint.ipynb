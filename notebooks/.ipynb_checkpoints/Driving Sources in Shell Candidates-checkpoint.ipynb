{
 "cells": [
  {
   "cell_type": "code",
   "execution_count": 1,
   "metadata": {
    "collapsed": false
   },
   "outputs": [],
   "source": [
    "%matplotlib inline\n",
    "%gui qt\n",
    "import warnings\n",
    "warnings.filterwarnings('ignore')\n",
    "from spectral_cube import SpectralCube\n",
    "import spectral_cube\n",
    "import pyregion\n",
    "from glue import qglue\n",
    "#spectral_cube.version.version"
   ]
  },
  {
   "cell_type": "code",
   "execution_count": null,
   "metadata": {
    "collapsed": false,
    "scrolled": true
   },
   "outputs": [],
   "source": [
    "nro_13co_cube = SpectralCube.read('../nro_maps/13CO_20160904_FOREST_xyb_spheroidal_0254kms_YS.fits')\n",
    "nro_12co_cube = SpectralCube.read('../nro_maps/12CO_20160905_BEARS_FOREST_xyb_spheroidal_0254kms_YS.fits')\n",
    "ds9_file = '../nro_maps/SouthShells.reg'"
   ]
  },
  {
   "cell_type": "code",
   "execution_count": null,
   "metadata": {
    "collapsed": false,
    "scrolled": true
   },
   "outputs": [],
   "source": [
    "nro_12co_cube[100,:,:].quicklook()"
   ]
  },
  {
   "cell_type": "markdown",
   "metadata": {},
   "source": [
    "### Glue Visualization of $^{12}$CO and $^{13}$CO Full Cubes"
   ]
  },
  {
   "cell_type": "code",
   "execution_count": null,
   "metadata": {
    "collapsed": false,
    "scrolled": true
   },
   "outputs": [],
   "source": [
    "nro_12co_data = nro_12co_cube.unmasked_data[:]\n",
    "nro_13co_data = nro_13co_cube.unmasked_data[:]\n",
    "#app_full=qglue(nro_12co=nro_12co_data, nro_13co=nro_13co_data)\n"
   ]
  },
  {
   "cell_type": "markdown",
   "metadata": {
    "collapsed": true
   },
   "source": [
    "### Extracting subcubes around shell candidates.\n",
    "Using spectral-cube and pyregion python packages with ds9 region file of circles around shell candidates.\n",
    "\n",
    "\n",
    "http://spectral-cube.readthedocs.io/en/latest/manipulating.html#extracting-a-subcube-from-a-ds9-region"
   ]
  },
  {
   "cell_type": "code",
   "execution_count": null,
   "metadata": {
    "collapsed": false
   },
   "outputs": [],
   "source": [
    "import pyregion\n",
    "import copy\n",
    "region_file = '../nro_maps/SouthShells.reg'\n",
    "region_list = pyregion.open('../nro_maps/SouthShells.reg')"
   ]
  },
  {
   "cell_type": "code",
   "execution_count": null,
   "metadata": {
    "collapsed": false
   },
   "outputs": [],
   "source": [
    "def subcubes_from_ds9(cube, region_file='../nro_maps/SouthShells.reg', pad_factor=1., shape='exact'):\n",
    "    \"\"\"\n",
    "    Parameters\n",
    "    ----------\n",
    "    cube: SpectralCube\n",
    "        The cube to be chopped. Must be type spectral_cube.SpectralCube.\n",
    "    region_file: str\n",
    "        Path to a ds9 region file.\n",
    "    pad_factor: float, optional\n",
    "        Expand the subcube around the region by this factor.\n",
    "    shape: {'square', 'exact'}\n",
    "        The shape of the subcube returned. 'square' returns the\n",
    "        smallest square subcube that contains the region.\n",
    "        'exact' returns only the pixels contained within the region.\n",
    "    \n",
    "    Returns\n",
    "    --------\n",
    "    subcubes: list of SpectralCube of SpectralCube\n",
    "    \"\"\"\n",
    "    from spectral_cube import SpectralCube\n",
    "    import pyregion\n",
    "\n",
    "    if shape == 'square':\n",
    "        import astropy.units as u\n",
    "        subcube_list = []\n",
    "        region_list = pyregion.open(region_file)\n",
    "        for region in region_list:\n",
    "            half_width = region.coord_list[2] * pad_factor * u.deg\n",
    "            ra_center = region.coord_list[0] * u.deg\n",
    "            dec_center = region.coord_list[1] * u.deg\n",
    "            ra_range = [ra_center - half_width, ra_center + half_width]\n",
    "            dec_range = [dec_center - half_width, dec_center + half_width]\n",
    "            #print(ra_range, dec_range)\n",
    "            subcube_list.append(cube.subcube(ra_range[1], ra_range[0], dec_range[0], dec_range[1]))\n",
    "    if shape == 'exact':\n",
    "        region_list = pyregion.open(region_file)\n",
    "        subcube_list = []\n",
    "        for region in region_list:\n",
    "            \n",
    "            if pad_factor != 1.:\n",
    "                new_string = '{};{}({},{},{}\")'.format(region.coord_format, region.name,\n",
    "                                region.coord_list[0], region.coord_list[1],\n",
    "                                region.coord_list[2]*3600.*pad_factor)\n",
    "                region = pyregion.parse(new_string)[0]\n",
    "                \n",
    "            subcube_list.append(cube.subcube_from_ds9region(pyregion.ShapeList([region])))\n",
    "    if len(subcube_list) == 1:\n",
    "        return subcube_list[0]\n",
    "    else:\n",
    "        return subcube_list\n"
   ]
  },
  {
   "cell_type": "markdown",
   "metadata": {},
   "source": [
    "### Plot shell candidates\n"
   ]
  },
  {
   "cell_type": "code",
   "execution_count": null,
   "metadata": {
    "collapsed": true
   },
   "outputs": [],
   "source": [
    "import aplpy\n",
    "from glue.app.qt.application import GlueApplication\n",
    "nro_12co_subcube_list = subcubes_from_ds9(nro_12co_cube, shape='square', pad_factor=1.2)\n",
    "#mom0_12co = nro_12co_subcube_list[5].moment(order=0)\n",
    "#f = aplpy.FITSFigure(nro_12co_subcube_list[1][110].hdu)\n",
    "#f.show_colorscale(cmap='gray')\n",
    "#f.show_colorbar()\n",
    "#glue_subcubes=qglue()"
   ]
  },
  {
   "cell_type": "markdown",
   "metadata": {},
   "source": [
    "### Send Shell Candidates to Glue"
   ]
  },
  {
   "cell_type": "code",
   "execution_count": null,
   "metadata": {
    "collapsed": false
   },
   "outputs": [],
   "source": [
    "#for subcube in nro_12co_subcube_list:\n",
    "#    subcube.to_glue()\n",
    "nro_12co_subcube_list[1].to_glue(name='shell_2')\n",
    "nro_12co_subcube_list[2].to_glue(name='shell_3')\n",
    "\n",
    "#f.save('moment_0.png')"
   ]
  },
  {
   "cell_type": "markdown",
   "metadata": {},
   "source": [
    "### Return sources from Spitzer Orion fits table that fall within each shell subcube."
   ]
  },
  {
   "cell_type": "code",
   "execution_count": null,
   "metadata": {
    "collapsed": false
   },
   "outputs": [],
   "source": [
    "from astropy.io import fits\n",
    "spitzer_orion_file = '../catalogs/spitzer_orion.fits'\n",
    "f = fits.open(spitzer_orion_file)\n",
    "#f[1].fields\n",
    "#yso_list = []\n",
    "#for subcube in nro_12co_subcube_list:\n",
    "#   \n",
    "#    yso_list.append(yso)"
   ]
  },
  {
   "cell_type": "markdown",
   "metadata": {},
   "source": [
    "### Extract Spitzer postage stamps around shell candidates."
   ]
  },
  {
   "cell_type": "code",
   "execution_count": null,
   "metadata": {
    "collapsed": true
   },
   "outputs": [],
   "source": []
  }
 ],
 "metadata": {
  "kernelspec": {
   "display_name": "Python 3",
   "language": "python",
   "name": "python3"
  },
  "language_info": {
   "codemirror_mode": {
    "name": "ipython",
    "version": 3
   },
   "file_extension": ".py",
   "mimetype": "text/x-python",
   "name": "python",
   "nbconvert_exporter": "python",
   "pygments_lexer": "ipython3",
   "version": "3.4.5"
  }
 },
 "nbformat": 4,
 "nbformat_minor": 0
}
