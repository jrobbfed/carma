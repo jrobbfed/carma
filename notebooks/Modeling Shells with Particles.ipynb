{
 "cells": [
  {
   "cell_type": "code",
   "execution_count": 13,
   "metadata": {
    "collapsed": false
   },
   "outputs": [],
   "source": [
    "%matplotlib inline\n",
    "import numpy as np\n",
    "import astropy.units as u\n",
    "import matplotlib.pyplot as plt\n",
    "from mpl_toolkits.mplot3d import Axes3D"
   ]
  },
  {
   "cell_type": "code",
   "execution_count": 14,
   "metadata": {
    "collapsed": false
   },
   "outputs": [],
   "source": [
    "R = 0.22 * u.pc\n",
    "dr = 0.20 * u.pc\n",
    "pixel_width = 7.5 * u.arcsec\n",
    "distance = 414 * u.pc\n",
    "pix_pc = pixel_width.to(u.radian).value * distance\n",
    "\n",
    "v0 = 13.6 * u.km/u.s\n",
    "vexp = 2.2 * u.km/u.s\n",
    "vstep = 0.099 * u.km/u.s"
   ]
  },
  {
   "cell_type": "markdown",
   "metadata": {},
   "source": [
    "## Sample Particles on Shell"
   ]
  },
  {
   "cell_type": "markdown",
   "metadata": {},
   "source": [
    "### Sample Cube then Reject Particles Off Shell"
   ]
  },
  {
   "cell_type": "code",
   "execution_count": 15,
   "metadata": {
    "collapsed": false
   },
   "outputs": [
    {
     "name": "stdout",
     "output_type": "stream",
     "text": [
      "Accept 49.6% of particles.\n"
     ]
    }
   ],
   "source": [
    "#%%timeit\n",
    "oversample_factor = 1e5\n",
    "n_points = int(((2*R+dr) / pix_pc) * oversample_factor)\n",
    "\n",
    "x = np.random.uniform(-R - dr/2, R + dr/2, n_points)\n",
    "y = np.random.uniform(-R - dr/2, R + dr/2, n_points)\n",
    "z = np.random.uniform(-R - dr/2, R + dr/2, n_points)\n",
    "\n",
    "r = np.sqrt(x**2. + y**2. + z**2.)\n",
    "on_shell = (r >= R.value - dr.value/2) & (r < R.value + dr.value/2)\n",
    "\n",
    "x = x[on_shell]\n",
    "y = y[on_shell]\n",
    "z = z[on_shell]\n",
    "r = r[on_shell]\n",
    "\n",
    "print(\"Accept {}% of particles.\".format(round(x.size / n_points, 3)*100))\n",
    "vz = vexp * z / r + v0"
   ]
  },
  {
   "cell_type": "markdown",
   "metadata": {},
   "source": [
    "### Sample Spherical Shell in Uniform Volumes\n",
    "This method is faster to generate the same number of particles on\n",
    "a shell."
   ]
  },
  {
   "cell_type": "code",
   "execution_count": 16,
   "metadata": {
    "collapsed": false
   },
   "outputs": [],
   "source": [
    "#%%timeit\n",
    "oversample_factor = 3**3.\n",
    "shell_volume = (4./3.) * np.pi * ((R+dr/2)**3. - (R-dr/2)**3.)\n",
    "n_points = (shell_volume / pix_pc ** 3.) * oversample_factor\n",
    "\n",
    "#Sample Unit Sphere\n",
    "theta = np.random.uniform(0, 2*np.pi, n_points)\n",
    "z0 = np.random.uniform(-1, 1, n_points)\n",
    "x0 = np.sqrt(1 - z0**2.)*np.cos(theta)\n",
    "y0 = np.sqrt(1 - z0**2.)*np.sin(theta)\n",
    "\n",
    "#Sample radius from distribution that has uniform volume density\n",
    "r = np.random.uniform((R - dr/2)**3., (R + dr/2)**3., n_points) ** (1./3.)\n",
    "x, y, z = x0*r, y0*r, z0*r\n",
    "vz = vexp * z / r + v0\n"
   ]
  },
  {
   "cell_type": "markdown",
   "metadata": {},
   "source": [
    "## Plot Particle Velocity"
   ]
  },
  {
   "cell_type": "code",
   "execution_count": 17,
   "metadata": {
    "collapsed": false,
    "scrolled": true
   },
   "outputs": [],
   "source": [
    "# fig = plt.figure(figsize=(10,10))\n",
    "# ax = fig.add_subplot(111, projection='3d')\n",
    "# #ax = fig.add_subplot(111)\n",
    "# ax.scatter(x, y, z, c=vz)\n",
    "# fig.tight_layout()"
   ]
  },
  {
   "cell_type": "markdown",
   "metadata": {},
   "source": [
    "## Bin into voxels with width [dx, dy, dvz]"
   ]
  },
  {
   "cell_type": "code",
   "execution_count": 37,
   "metadata": {
    "collapsed": false
   },
   "outputs": [],
   "source": [
    "#%%timeit\n",
    "pad = 5\n",
    "#Midpoint of middle pixel should be at x,y = 0 (center of shell).\n",
    "pix_start = -R - dr/2 - pad*pix_pc\n",
    "pix_end = R + dr/2 + pad*pix_pc\n",
    "pix_bins = symmetric_bins(pix_start.value, pix_end.value, pix_pc.value)\n",
    "\n",
    "\n",
    "channel_pad = 5\n",
    "#Midpoint of middle channel should be v0\n",
    "vstart = v0 - vexp - channel_pad*vstep\n",
    "vend = v0 + vexp + channel_pad*vstep\n",
    "vz_bins = symmetric_bins(vstart.value, vend.value, vstep.value)"
   ]
  },
  {
   "cell_type": "markdown",
   "metadata": {},
   "source": [
    "### Show Sum Along Z-Axis"
   ]
  },
  {
   "cell_type": "code",
   "execution_count": 38,
   "metadata": {
    "collapsed": false,
    "scrolled": false
   },
   "outputs": [
    {
     "data": {
      "text/plain": [
       "<matplotlib.image.AxesImage at 0x11947d320>"
      ]
     },
     "execution_count": 38,
     "metadata": {},
     "output_type": "execute_result"
    },
    {
     "data": {
      "image/png": "[encoded data removed]",
      "text/plain": [
       "<matplotlib.figure.Figure at 0x11a19cf60>"
      ]
     },
     "metadata": {},
     "output_type": "display_data"
    }
   ],
   "source": [
    "#%%timeit\n",
    "ppv, edges = np.histogramdd((x, y, vz.value), bins=(pix_bins, pix_bins, vz_bins))\n",
    "plt.imshow(np.sum(ppv, axis=2), interpolation='none')"
   ]
  },
  {
   "cell_type": "markdown",
   "metadata": {},
   "source": [
    "### Smooth with a Gaussian With FWHM = 2 Pixels"
   ]
  },
  {
   "cell_type": "code",
   "execution_count": 39,
   "metadata": {
    "collapsed": false
   },
   "outputs": [],
   "source": [
    "#%%timeit\n",
    "from astropy.convolution import Gaussian2DKernel, convolve, convolve_fft\n",
    "gauss = Gaussian2DKernel(stddev = 2 / np.sqrt(8 * np.log(2))) #2 pixels FWHM\n",
    "for i in range(ppv.shape[2]):\n",
    "    ppv[:,:,i] = convolve_fft(ppv[:,:,i], gauss, normalize_kernel=True)\n",
    "ppv = np.swapaxes(ppv, 0, 2)"
   ]
  },
  {
   "cell_type": "code",
   "execution_count": 40,
   "metadata": {
    "collapsed": false
   },
   "outputs": [
    {
     "data": {
      "image/png": "[encoded data removed]",
      "text/plain": [
       "<matplotlib.figure.Figure at 0x11ce76be0>"
      ]
     },
     "metadata": {},
     "output_type": "display_data"
    }
   ],
   "source": [
    "plt.imshow(np.sum(ppv, 2), interpolation='none')\n",
    "plt.show()\n",
    "#plt.scatter([0,21,42],[0,21,42])"
   ]
  },
  {
   "cell_type": "markdown",
   "metadata": {
    "collapsed": true
   },
   "source": [
    "### Test implementation of particle method in `shell_model.py`"
   ]
  },
  {
   "cell_type": "code",
   "execution_count": 41,
   "metadata": {
    "collapsed": false
   },
   "outputs": [],
   "source": [
    "import shell_model\n",
    "import shells\n",
    "from spectral_cube import SpectralCube\n",
    "cubefile12co = \"../nro_maps/12CO_20161017_FOREST-BEARS_spheroidal_xyb_grid7.5_0.099kms_YS.fits\"\n",
    "regionfile = \"../shell_candidates/AllShells.reg\"\n",
    "\n",
    "# For Shell 18\n",
    "n=17\n",
    "shell_list = shells.get_shells()\n",
    "shell = shell_list[n]\n",
    "\n",
    "outfile = '../turbulent_model/shell18_particles.fits'\n",
    "model_pars = {\n",
    "    'outfile':\"'{}'\".format(outfile),\n",
    "    'dist':414*u.pc, # pc\n",
    "    'pix_size':7.5*u.arcsec, # arcsec\n",
    "    'vstep':0.099*u.km/u.s, # km/s\n",
    "    'acen':shell.ra, # deg\n",
    "    'dcen':shell.dec, # deg\n",
    "    'thickness':0.0, # pc\n",
    "    'fwhm':0.0, # km/s\n",
    "    'beta':0.0, # spectral index\n",
    "    'R':0.22*u.pc, # pc\n",
    "    'dr':0.2*u.pc, # pc\n",
    "    'vexp':2.2*u.km/u.s, # km/s\n",
    "    'depth_offset':0.0, # pc\n",
    "    'vel_offset':0.0, # km/s\n",
    "    'v0':13.6*u.km/u.s, # km/s\n",
    "    'ignore_cloud':1, #Ignore cloud.\n",
    "    'method':'sample',\n",
    "    'write_fits':False,\n",
    "    'samples_per_voxel':27}"
   ]
  },
  {
   "cell_type": "code",
   "execution_count": 56,
   "metadata": {
    "collapsed": false
   },
   "outputs": [],
   "source": [
    "#%%timeit\n",
    "ppv = shell_model.ppv_model(**model_pars)\n",
    "s = SpectralCube.read(ppv)\n",
    "pv_length = abs(s.latitude_extrema[1] - s.latitude_extrema[0])"
   ]
  },
  {
   "cell_type": "code",
   "execution_count": 57,
   "metadata": {
    "collapsed": false
   },
   "outputs": [
    {
     "name": "stdout",
     "output_type": "stream",
     "text": [
      "\n"
     ]
    }
   ],
   "source": [
    "pv = shells.pv_slice(s, model_pars['acen'], model_pars['dcen'], length=pv_length)"
   ]
  },
  {
   "cell_type": "code",
   "execution_count": 59,
   "metadata": {
    "collapsed": false
   },
   "outputs": [
    {
     "data": {
      "text/plain": [
       "<matplotlib.image.AxesImage at 0x11a4022e8>"
      ]
     },
     "execution_count": 59,
     "metadata": {},
     "output_type": "execute_result"
    },
    {
     "data": {
      "image/png": "[encoded data removed]",
      "text/plain": [
       "<matplotlib.figure.Figure at 0x11949f2b0>"
      ]
     },
     "metadata": {},
     "output_type": "display_data"
    }
   ],
   "source": [
    "plt.imshow(pv.data, interpolation='none')"
   ]
  },
  {
   "cell_type": "code",
   "execution_count": null,
   "metadata": {
    "collapsed": true
   },
   "outputs": [],
   "source": []
  }
 ],
 "metadata": {
  "kernelspec": {
   "display_name": "Python 3",
   "language": "python",
   "name": "python3"
  },
  "language_info": {
   "codemirror_mode": {
    "name": "ipython",
    "version": 3
   },
   "file_extension": ".py",
   "mimetype": "text/x-python",
   "name": "python",
   "nbconvert_exporter": "python",
   "pygments_lexer": "ipython3",
   "version": "3.4.5"
  }
 },
 "nbformat": 4,
 "nbformat_minor": 0
}
