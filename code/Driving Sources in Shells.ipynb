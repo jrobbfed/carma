{
 "cells": [
  {
   "cell_type": "markdown",
   "metadata": {},
   "source": [
    "## Find all Stars in Simbad Database within Shell Candidates"
   ]
  },
  {
   "cell_type": "code",
   "execution_count": 1,
   "metadata": {
    "collapsed": true
   },
   "outputs": [],
   "source": [
    "%matplotlib inline\n",
    "%gui qt\n",
    "import warnings\n",
    "warnings.filterwarnings('ignore')"
   ]
  },
  {
   "cell_type": "code",
   "execution_count": 2,
   "metadata": {
    "collapsed": true
   },
   "outputs": [],
   "source": [
    "import shells\n",
    "import numpy as np\n",
    "from astroquery.simbad import Simbad"
   ]
  },
  {
   "cell_type": "code",
   "execution_count": 3,
   "metadata": {
    "collapsed": false
   },
   "outputs": [],
   "source": [
    "shell_list = shells.get_shells()\n",
    "stars_list = [shells.simbad_sources(shell.ra.value, shell.dec.value, shell.radius.value) for shell in shell_list]"
   ]
  },
  {
   "cell_type": "code",
   "execution_count": 24,
   "metadata": {
    "collapsed": false
   },
   "outputs": [
    {
     "data": {
      "text/html": [
       "&lt;Table masked=True length=10&gt;\n",
       "<table id=\"table4817249952\" class=\"table-striped table-bordered table-condensed\">\n",
       "<thead><tr><th>MAIN_ID</th><th>RA</th><th>DEC</th><th>RA_PREC</th><th>DEC_PREC</th><th>COO_ERR_MAJA</th><th>COO_ERR_MINA</th><th>COO_ERR_ANGLE</th><th>COO_QUAL</th><th>COO_WAVELENGTH</th><th>COO_BIBCODE</th><th>SP_TYPE</th><th>SP_QUAL</th><th>SP_BIBCODE</th></tr></thead>\n",
       "<thead><tr><th></th><th>&quot;h:m:s&quot;</th><th>&quot;d:m:s&quot;</th><th></th><th></th><th>mas</th><th>mas</th><th>deg</th><th></th><th></th><th></th><th></th><th></th><th></th></tr></thead>\n",
       "<thead><tr><th>object</th><th>str13</th><th>str13</th><th>int16</th><th>int16</th><th>float32</th><th>float32</th><th>int16</th><th>str1</th><th>str1</th><th>object</th><th>object</th><th>str1</th><th>object</th></tr></thead>\n",
       "<tr><td>V* V2645 Ori</td><td>05 36 08.336</td><td>-06 24 37.86</td><td>7</td><td>7</td><td>70.000</td><td>60.000</td><td>0</td><td>B</td><td>I</td><td>2003yCat.2246....0C</td><td>M5.5</td><td>D</td><td>2009A&amp;A...504..461F</td></tr>\n",
       "<tr><td>V* V2651 Ori</td><td>05 36 12.606</td><td>-06 23 39.57</td><td>7</td><td>7</td><td>70.000</td><td>60.000</td><td>4</td><td>B</td><td>I</td><td>2003yCat.2246....0C</td><td>M5</td><td>D</td><td>2009A&amp;A...504..461F</td></tr>\n",
       "<tr><td>JCMTSF J053610.1-062350</td><td>05 36 10.1</td><td>-06 23 50</td><td>5</td><td>5</td><td>10000.000</td><td>10000.000</td><td>90</td><td>E</td><td>m</td><td>2008ApJS..175..277D</td><td></td><td></td><td></td></tr>\n",
       "<tr><td>Parenago  2374</td><td>05 36 15.2353</td><td>-06 23 55.651</td><td>8</td><td>8</td><td>48.990</td><td>40.340</td><td>90</td><td>B</td><td></td><td>1998A&amp;A...335L..65H</td><td>F9IV</td><td>D</td><td>2001A&amp;A...373..159C</td></tr>\n",
       "<tr><td>[HD93]  7</td><td>05 36 12.968</td><td>-06 23 32.97</td><td>7</td><td>7</td><td>70.000</td><td>60.000</td><td>88</td><td>B</td><td>I</td><td>2003yCat.2246....0C</td><td>M2.5</td><td>D</td><td>2009A&amp;A...504..461F</td></tr>\n",
       "<tr><td>2MASS J05361167-0624583</td><td>05 36 11.671</td><td>-06 24 58.37</td><td>7</td><td>7</td><td>70.000</td><td>60.000</td><td>0</td><td>B</td><td>N</td><td>2003yCat.2246....0C</td><td>M5</td><td>D</td><td>2009A&amp;A...504..461F</td></tr>\n",
       "<tr><td>BD-06  1251</td><td>05 36 06.8532</td><td>-06 23 35.301</td><td>8</td><td>8</td><td>51.880</td><td>40.170</td><td>90</td><td>B</td><td></td><td>1998A&amp;A...335L..65H</td><td>F5.0</td><td>D</td><td>2013ApJ...764..114H</td></tr>\n",
       "<tr><td>2MASS J05360951-0624336</td><td>05 36 09.520</td><td>-06 24 33.66</td><td>7</td><td>7</td><td>70.000</td><td>60.000</td><td>0</td><td>B</td><td>I</td><td>2003yCat.2246....0C</td><td>M4.5</td><td>D</td><td>2009A&amp;A...504..461F</td></tr>\n",
       "<tr><td>[MGM2012] 918</td><td>05 36 12.95</td><td>-06 23 30.6</td><td>6</td><td>6</td><td>300.000</td><td>300.000</td><td>90</td><td>C</td><td>M</td><td>2012AJ....144..192M</td><td></td><td></td><td></td></tr>\n",
       "<tr><td>[FKV2013] 1021</td><td>05 36 04.17</td><td>-06 24 55.0</td><td>6</td><td>6</td><td>--</td><td>--</td><td>0</td><td>D</td><td>M</td><td>2013ApJS..207....5F</td><td></td><td></td><td></td></tr>\n",
       "</table>"
      ],
      "text/plain": [
       "<Table masked=True length=10>\n",
       "        MAIN_ID               RA      ... SP_QUAL      SP_BIBCODE    \n",
       "                           \"h:m:s\"    ...                            \n",
       "         object             str13     ...   str1         object      \n",
       "----------------------- ------------- ... ------- -------------------\n",
       "           V* V2645 Ori  05 36 08.336 ...       D 2009A&A...504..461F\n",
       "           V* V2651 Ori  05 36 12.606 ...       D 2009A&A...504..461F\n",
       "JCMTSF J053610.1-062350    05 36 10.1 ...                            \n",
       "         Parenago  2374 05 36 15.2353 ...       D 2001A&A...373..159C\n",
       "              [HD93]  7  05 36 12.968 ...       D 2009A&A...504..461F\n",
       "2MASS J05361167-0624583  05 36 11.671 ...       D 2009A&A...504..461F\n",
       "            BD-06  1251 05 36 06.8532 ...       D 2013ApJ...764..114H\n",
       "2MASS J05360951-0624336  05 36 09.520 ...       D 2009A&A...504..461F\n",
       "          [MGM2012] 918   05 36 12.95 ...                            \n",
       "         [FKV2013] 1021   05 36 04.17 ...                            "
      ]
     },
     "execution_count": 24,
     "metadata": {},
     "output_type": "execute_result"
    }
   ],
   "source": [
    "n=7\n",
    "stars_list[n]"
   ]
  },
  {
   "cell_type": "markdown",
   "metadata": {},
   "source": [
    "## Plot a sample shell, with all Simbad stars."
   ]
  },
  {
   "cell_type": "code",
   "execution_count": null,
   "metadata": {
    "collapsed": false
   },
   "outputs": [],
   "source": [
    "n = 7\n",
    "cube_file = \"../nro_maps/12CO_20161002_FOREST-BEARS_spheroidal_xyb_grid7.5_0.099kms.fits\"\n",
    "cube = shells.SpectralCube.read(cube_file)\n",
    "hdu = cube.moment0().hdu\n",
    "shell = shell_list[n]\n",
    "#AUTO SCALE\n",
    "ra_grid = cube.spatial_coordinate_map[1]\n",
    "dec_grid = cube.spatial_coordinate_map[0]\n",
    "shell_mask = (ra_grid - shell.ra) ** 2. + (dec_grid - shell.dec) ** 2. < shell.radius ** 2.\n",
    "shell_data = hdu.data[shell_mask]\n",
    "vmin, vmax = np.nanmin(shell_data), np.nanmax(shell_data)\n",
    "fig = shells.plot_stamp(map=hdu, ra=shell.ra.value, dec=shell.dec.value, radius=shell.radius.value,\n",
    "         source_lists=None, stretch='linear', pad_factor=1.5, vmin=vmin, vmax=vmax,\n",
    "         return_fig=True)\n",
    "fig.set_title(\"Shell \"+str(n+1))"
   ]
  },
  {
   "cell_type": "code",
   "execution_count": null,
   "metadata": {
    "collapsed": false
   },
   "outputs": [],
   "source": []
  },
  {
   "cell_type": "markdown",
   "metadata": {},
   "source": [
    "### Brightest Simbad star in 12 Shell Candidates: F5"
   ]
  },
  {
   "cell_type": "code",
   "execution_count": null,
   "metadata": {
    "collapsed": false
   },
   "outputs": [],
   "source": [
    "print(\"All Spectral Types of Simbad Stars in Shell Candidates\")\n",
    "for n in range(len(shell_list)):\n",
    "    stars = stars_list[n]\n",
    "    ids = np.array(stars['MAIN_ID'], dtype=str)\n",
    "    s = Simbad()\n",
    "    s.add_votable_fields('sptype')\n",
    "    stars = s.query_objects(ids)\n",
    "    sptype = np.array(stars['SP_TYPE'], dtype=str)\n",
    "    bool_oba = np.array([('O' in i or 'B' in i or 'A' in i) for i in sptype])\n",
    "    stars_oba = stars[bool_oba]\n",
    "    print(sptype)\n",
    "#stars_oba = stars[stars['sptype']]"
   ]
  },
  {
   "cell_type": "markdown",
   "metadata": {
    "collapsed": true
   },
   "source": [
    "## All OBAF Stars In Orion"
   ]
  },
  {
   "cell_type": "code",
   "execution_count": 6,
   "metadata": {
    "collapsed": false
   },
   "outputs": [
    {
     "name": "stdout",
     "output_type": "stream",
     "text": [
      "WCS Keywords\n",
      "\n",
      "Number of WCS axes: 2\n",
      "CTYPE : 'RA---SFL'  'DEC--SFL'  \n",
      "CRVAL : 83.783332999999999  -5.5833329999999997  \n",
      "CRPIX : 455.19235888999998  775.95882666700004  \n",
      "PC1_1 PC1_2  : 1.0  0.0  \n",
      "PC2_1 PC2_2  : 0.0  1.0  \n",
      "CDELT : -0.00208333333333  0.00208333333333  \n",
      "NAXIS    : 670 1151\n",
      "[[ 84.73708316  -7.19783056]\n",
      " [ 84.73290012  -4.80199722]\n",
      " [ 83.33424074  -4.80199722]\n",
      " [ 83.33226239  -7.19783056]]\n"
     ]
    }
   ],
   "source": [
    "cube_file = \"../catalogs/MIPS_L1641a_24um.fits\"\n",
    "cube_file = \"../nro_maps/12CO_20161002_FOREST-BEARS_spheroidal_xyb_grid7.5_0.099kms.fits\"\n",
    "wcs = shells.WCS(cube_file).celestial\n",
    "print(wcs)\n",
    "#print(wcs.to_header())\n",
    "footprint = wcs.calc_footprint()\n",
    "ra_min, ra_max = footprint[:,0].min(), footprint[:,0].max()\n",
    "dec_min, dec_max = footprint[:,1].min(), footprint[:,1].max()\n",
    "print(footprint)\n",
    "#coord_map = cube.spatial_coordinate_map\n",
    "#\n",
    "from astropy.table import (Table, Column)"
   ]
  },
  {
   "cell_type": "code",
   "execution_count": 20,
   "metadata": {
    "collapsed": false
   },
   "outputs": [
    {
     "data": {
      "text/html": [
       "&lt;MaskedColumn name=&apos;SP_TYPE&apos; dtype=&apos;object&apos; description=&apos;MK spectral type&apos; length=121&gt;\n",
       "<table>\n",
       "<tr><td>A3Ve</td></tr>\n",
       "<tr><td>B0V</td></tr>\n",
       "<tr><td>B8(V)</td></tr>\n",
       "<tr><td>F8.0</td></tr>\n",
       "<tr><td>B1.5Vp</td></tr>\n",
       "<tr><td>B3</td></tr>\n",
       "<tr><td>F8IV</td></tr>\n",
       "<tr><td>A5e</td></tr>\n",
       "<tr><td>A3</td></tr>\n",
       "<tr><td>B8(III)</td></tr>\n",
       "<tr><td>O9IIIvar</td></tr>\n",
       "<tr><td>F9IV:</td></tr>\n",
       "<tr><td>...</td></tr>\n",
       "<tr><td>F4.0</td></tr>\n",
       "<tr><td>B9V</td></tr>\n",
       "<tr><td>B7</td></tr>\n",
       "<tr><td>A0III</td></tr>\n",
       "<tr><td>A3</td></tr>\n",
       "<tr><td>A7II/III</td></tr>\n",
       "<tr><td>A9IV/V</td></tr>\n",
       "<tr><td>F9.0</td></tr>\n",
       "<tr><td>F9</td></tr>\n",
       "<tr><td>B9</td></tr>\n",
       "<tr><td>F8V</td></tr>\n",
       "<tr><td>A0V</td></tr>\n",
       "</table>"
      ],
      "text/plain": [
       "<MaskedColumn name='SP_TYPE' dtype='object' description='MK spectral type' length=121>\n",
       "    A3Ve\n",
       "     B0V\n",
       "   B8(V)\n",
       "    F8.0\n",
       "  B1.5Vp\n",
       "      B3\n",
       "    F8IV\n",
       "     A5e\n",
       "      A3\n",
       " B8(III)\n",
       "O9IIIvar\n",
       "   F9IV:\n",
       "     ...\n",
       "    F4.0\n",
       "     B9V\n",
       "      B7\n",
       "   A0III\n",
       "      A3\n",
       "A7II/III\n",
       "  A9IV/V\n",
       "    F9.0\n",
       "      F9\n",
       "      B9\n",
       "     F8V\n",
       "     A0V"
      ]
     },
     "execution_count": 20,
     "metadata": {},
     "output_type": "execute_result"
    }
   ],
   "source": [
    "s = Simbad()\n",
    "#not dec > 84.4 & ra > -6.66\n",
    "s.add_votable_fields('sptype')\n",
    "stars_OBAF = s.query_criteria(\"ra > {} & ra < {} & dec > {} & dec < {} & (ra < 84.4 | dec < -6.66) & sptypes < G0\".format(\n",
    "        ra_min, ra_max, dec_min, dec_max), otypes=\"Star\")\n",
    "stars_OBAF['SP_TYPE']\n",
    "#stars_coord = shells.coord.SkyCoord(stars_OBAF['RA'], stars_OBAF['DEC'], unit=(shells.u.hourangle, shells.u.degree))"
   ]
  },
  {
   "cell_type": "code",
   "execution_count": 19,
   "metadata": {
    "collapsed": false
   },
   "outputs": [
    {
     "data": {
      "text/html": [
       "&lt;MaskedColumn name=&apos;RA&apos; dtype=&apos;float64&apos; unit=&apos;deg&apos; length=121&gt;\n",
       "<table>\n",
       "<tr><td>84.2468766667</td></tr>\n",
       "<tr><td>83.8159583333</td></tr>\n",
       "<tr><td>84.46180375</td></tr>\n",
       "<tr><td>83.76729875</td></tr>\n",
       "<tr><td>83.7909833333</td></tr>\n",
       "<tr><td>83.8056120833</td></tr>\n",
       "<tr><td>83.7266625</td></tr>\n",
       "<tr><td>84.5388</td></tr>\n",
       "<tr><td>84.3059495833</td></tr>\n",
       "<tr><td>83.8083720833</td></tr>\n",
       "<tr><td>83.8582579167</td></tr>\n",
       "<tr><td>83.5367916667</td></tr>\n",
       "<tr><td>...</td></tr>\n",
       "<tr><td>84.0054625</td></tr>\n",
       "<tr><td>83.7028333333</td></tr>\n",
       "<tr><td>84.576</td></tr>\n",
       "<tr><td>83.5227941667</td></tr>\n",
       "<tr><td>83.6351291667</td></tr>\n",
       "<tr><td>84.1217883333</td></tr>\n",
       "<tr><td>83.9145195833</td></tr>\n",
       "<tr><td>83.8950479167</td></tr>\n",
       "<tr><td>84.2958333333</td></tr>\n",
       "<tr><td>83.7650833333</td></tr>\n",
       "<tr><td>83.7947833333</td></tr>\n",
       "<tr><td>83.6761704167</td></tr>\n",
       "</table>"
      ],
      "text/plain": [
       "<MaskedColumn name='RA' dtype='float64' unit='deg' length=121>\n",
       "84.2468766667\n",
       "83.8159583333\n",
       "  84.46180375\n",
       "  83.76729875\n",
       "83.7909833333\n",
       "83.8056120833\n",
       "   83.7266625\n",
       "      84.5388\n",
       "84.3059495833\n",
       "83.8083720833\n",
       "83.8582579167\n",
       "83.5367916667\n",
       "          ...\n",
       "   84.0054625\n",
       "83.7028333333\n",
       "       84.576\n",
       "83.5227941667\n",
       "83.6351291667\n",
       "84.1217883333\n",
       "83.9145195833\n",
       "83.8950479167\n",
       "84.2958333333\n",
       "83.7650833333\n",
       "83.7947833333\n",
       "83.6761704167"
      ]
     },
     "execution_count": 19,
     "metadata": {},
     "output_type": "execute_result"
    }
   ],
   "source": [
    "#stars_coord.ra.to(shells.u.hourangle)\n",
    "stars_OBAF.replace_column('RA', Column(stars_coord.ra, name='RA', unit='deg'))\n",
    "#stars_OBAF.replace_column('DEC', Column(stars_coord.dec, name='DEC', unit='deg'))\n",
    "stars_OBAF['RA']\n",
    "#stars_OBAF = stars_OBAF(stars_coord.ra < 84.4*shells.u.deg) | (stars_coord.dec < -6.66*shells.u.deg)"
   ]
  },
  {
   "cell_type": "code",
   "execution_count": 48,
   "metadata": {
    "collapsed": false
   },
   "outputs": [
    {
     "data": {
      "text/plain": [
       "['A',\n",
       " 'B',\n",
       " 'B',\n",
       " 'F',\n",
       " 'B',\n",
       " 'B',\n",
       " 'F',\n",
       " 'A',\n",
       " 'A',\n",
       " 'B',\n",
       " 'O',\n",
       " 'F',\n",
       " 'B',\n",
       " 'A',\n",
       " 'A',\n",
       " 'B',\n",
       " 'F',\n",
       " 'B',\n",
       " 'F',\n",
       " 'F',\n",
       " 'F',\n",
       " 'F',\n",
       " 'A',\n",
       " 'F',\n",
       " 'A',\n",
       " 'F',\n",
       " 'B',\n",
       " 'A',\n",
       " 'A',\n",
       " 'F',\n",
       " 'F',\n",
       " 'A',\n",
       " 'B',\n",
       " 'B',\n",
       " 'F',\n",
       " 'A',\n",
       " 'F',\n",
       " 'F',\n",
       " 'A',\n",
       " 'O',\n",
       " 'F',\n",
       " 'F',\n",
       " 'B',\n",
       " 'F',\n",
       " 'A',\n",
       " 'F',\n",
       " 'F',\n",
       " 'F',\n",
       " 'F',\n",
       " 'B',\n",
       " 'F',\n",
       " 'B',\n",
       " 'B',\n",
       " 'B',\n",
       " 'B',\n",
       " 'F',\n",
       " 'F',\n",
       " '<',\n",
       " 'B',\n",
       " 'B',\n",
       " 'A',\n",
       " 'A',\n",
       " 'B',\n",
       " 'F',\n",
       " 'B',\n",
       " 'B',\n",
       " 'F',\n",
       " 'B',\n",
       " 'F',\n",
       " 'A',\n",
       " 'A',\n",
       " 'B',\n",
       " 'F',\n",
       " 'F',\n",
       " 'F',\n",
       " 'B',\n",
       " 'B',\n",
       " 'A',\n",
       " 'F',\n",
       " 'F',\n",
       " 'F',\n",
       " 'F',\n",
       " '<',\n",
       " 'B',\n",
       " 'B',\n",
       " 'A',\n",
       " 'F',\n",
       " 'A',\n",
       " 'B',\n",
       " 'B',\n",
       " 'O',\n",
       " 'A',\n",
       " 'O',\n",
       " 'B',\n",
       " 'F',\n",
       " 'A',\n",
       " 'F',\n",
       " 'A',\n",
       " 'F',\n",
       " 'F',\n",
       " 'F',\n",
       " 'F',\n",
       " 'F',\n",
       " 'A',\n",
       " 'B',\n",
       " 'F',\n",
       " 'F',\n",
       " 'F',\n",
       " 'F',\n",
       " 'F',\n",
       " 'B',\n",
       " 'B',\n",
       " 'A',\n",
       " 'A',\n",
       " 'A',\n",
       " 'A',\n",
       " 'F',\n",
       " 'F',\n",
       " 'B',\n",
       " 'F',\n",
       " 'A']"
      ]
     },
     "execution_count": 48,
     "metadata": {},
     "output_type": "execute_result"
    }
   ],
   "source": [
    "[sptype[0] for sptype in stars_OBAF['SP_TYPE'].astype('str')]\n",
    "#stars_OBAF['SP_TYPE'][np.array([sptype[0] for sptype in stars_OBAF['SP_TYPE'].astype('str')]) == '<']\n",
    "#stars_OBAF.add_column(Column(stars_OBAF['SP_TYPE']))"
   ]
  },
  {
   "cell_type": "code",
   "execution_count": 29,
   "metadata": {
    "collapsed": false
   },
   "outputs": [
    {
     "data": {
      "text/html": [
       "&lt;Table masked=True length=35&gt;\n",
       "<table id=\"table4817753592\" class=\"table-striped table-bordered table-condensed\">\n",
       "<thead><tr><th>MAIN_ID</th><th>RA</th><th>DEC</th><th>RA_PREC</th><th>DEC_PREC</th><th>COO_ERR_MAJA</th><th>COO_ERR_MINA</th><th>COO_ERR_ANGLE</th><th>COO_QUAL</th><th>COO_WAVELENGTH</th><th>COO_BIBCODE</th><th>SP_TYPE</th><th>SP_QUAL</th><th>SP_BIBCODE</th></tr></thead>\n",
       "<thead><tr><th></th><th>&quot;h:m:s&quot;</th><th>&quot;d:m:s&quot;</th><th></th><th></th><th>mas</th><th>mas</th><th>deg</th><th></th><th></th><th></th><th></th><th></th><th></th></tr></thead>\n",
       "<thead><tr><th>object</th><th>str13</th><th>str13</th><th>int16</th><th>int16</th><th>float32</th><th>float32</th><th>int16</th><th>str1</th><th>str1</th><th>object</th><th>object</th><th>str1</th><th>object</th></tr></thead>\n",
       "<tr><td>* tet01 Ori A</td><td>05 35 15.83</td><td>-05 23 14.1</td><td>6</td><td>6</td><td>--</td><td>--</td><td>0</td><td>C</td><td>R</td><td>2014ApJ...790...49K</td><td>B0V</td><td>C</td><td>1977ApJS...34..115W</td></tr>\n",
       "<tr><td>HD  37373</td><td>05 37 50.8329</td><td>-06 43 19.544</td><td>8</td><td>8</td><td>28.100</td><td>14.820</td><td>90</td><td>B</td><td></td><td>1998A&amp;A...335L..65H</td><td>B8(V)</td><td>D</td><td>1999MSS...C05....0H</td></tr>\n",
       "<tr><td>HD  36982</td><td>05 35 09.836</td><td>-05 27 53.33</td><td>7</td><td>7</td><td>113.110</td><td>106.690</td><td>0</td><td>B</td><td></td><td>1988A&amp;AS...74..449R</td><td>B1.5Vp</td><td>C</td><td></td></tr>\n",
       "<tr><td>HD 294264</td><td>05 35 13.3469</td><td>-04 51 44.947</td><td>8</td><td>8</td><td>26.750</td><td>20.180</td><td>90</td><td>B</td><td></td><td>1998A&amp;A...335L..65H</td><td>B3</td><td>E</td><td>1995A&amp;AS..110..367N</td></tr>\n",
       "<tr><td>HD  36999</td><td>05 35 14.0093</td><td>-05 49 36.272</td><td>8</td><td>8</td><td>51.660</td><td>17.070</td><td>0</td><td>B</td><td></td><td>1998A&amp;A...335L..65H</td><td>B8(III)</td><td>D</td><td>1999MSS...C05....0H</td></tr>\n",
       "<tr><td>HD  36783</td><td>05 33 52.1184</td><td>-06 36 56.317</td><td>8</td><td>8</td><td>19.560</td><td>17.940</td><td>0</td><td>B</td><td></td><td>1998A&amp;A...335L..65H</td><td>B9V</td><td>C</td><td>1999MSS...C05....0H</td></tr>\n",
       "<tr><td>HD  37209</td><td>05 36 35.6933</td><td>-06 03 53.108</td><td>9</td><td>9</td><td>3.080</td><td>2.110</td><td>90</td><td>A</td><td>O</td><td>2007A&amp;A...474..653V</td><td>B3IV</td><td>C</td><td>2008ApJS..176..216A</td></tr>\n",
       "<tr><td>* iot Ori B</td><td>05 35 26.45</td><td>-05 54 44.5</td><td>6</td><td>6</td><td>70.000</td><td>70.000</td><td>90</td><td>B</td><td>I</td><td>2003yCat.2246....0C</td><td>B8III</td><td>C</td><td>2008ApJS..176..216A</td></tr>\n",
       "<tr><td>V* V1133 Ori</td><td>05 36 30.9608</td><td>-06 27 13.869</td><td>8</td><td>8</td><td>15.020</td><td>14.470</td><td>90</td><td>B</td><td></td><td>1998A&amp;A...335L..65H</td><td>B9IV/V</td><td>D</td><td>1999MSS...C05....0H</td></tr>\n",
       "<tr><td>...</td><td>...</td><td>...</td><td>...</td><td>...</td><td>...</td><td>...</td><td>...</td><td>...</td><td>...</td><td>...</td><td>...</td><td>...</td><td>...</td></tr>\n",
       "<tr><td>* c Ori</td><td>05 35 23.1642</td><td>-04 50 18.088</td><td>9</td><td>9</td><td>9.500</td><td>5.810</td><td>90</td><td>A</td><td>O</td><td>2007A&amp;A...474..653V</td><td>B1V</td><td>C</td><td></td></tr>\n",
       "<tr><td>HD  37174</td><td>05 36 27.1872</td><td>-05 24 31.316</td><td>8</td><td>8</td><td>22.490</td><td>22.430</td><td>90</td><td>B</td><td></td><td>1998A&amp;A...335L..65H</td><td>B9V</td><td>C</td><td>1999MSS...C05....0H</td></tr>\n",
       "<tr><td>* tet01 Ori F</td><td>05 35 16.7236</td><td>-05 23 25.168</td><td>9</td><td>9</td><td>--</td><td>--</td><td>0</td><td>B</td><td>N</td><td>2012ApJ...749..180C</td><td>B8</td><td>D</td><td>1950ApJ...111...15H</td></tr>\n",
       "<tr><td>HD  37303</td><td>05 37 27.3571</td><td>-05 56 18.207</td><td>9</td><td>9</td><td>3.520</td><td>2.380</td><td>90</td><td>A</td><td>O</td><td>2007A&amp;A...474..653V</td><td>B2V(n)</td><td>C</td><td>1999MSS...C05....0H</td></tr>\n",
       "<tr><td>HD  36918</td><td>05 34 49.1241</td><td>-06 00 22.901</td><td>8</td><td>8</td><td>41.660</td><td>26.990</td><td>0</td><td>B</td><td></td><td>1998A&amp;A...335L..65H</td><td>B8.3</td><td>D</td><td>2013ApJ...764..114H</td></tr>\n",
       "<tr><td>HD  37150</td><td>05 36 15.0274</td><td>-05 38 52.524</td><td>9</td><td>9</td><td>5.100</td><td>3.170</td><td>90</td><td>A</td><td>O</td><td>2007A&amp;A...474..653V</td><td>B3III/IV</td><td>D</td><td>1999MSS...C05....0H</td></tr>\n",
       "<tr><td>TYC 4778-1230-1</td><td>05 36 48.622</td><td>-06 45 52.08</td><td>7</td><td>7</td><td>70.000</td><td>60.000</td><td>90</td><td>B</td><td>I</td><td>2003yCat.2246....0C</td><td>B7.4</td><td>D</td><td>2013ApJ...764..114H</td></tr>\n",
       "<tr><td>HD  36919</td><td>05 34 48.68</td><td>-05 59 55.0</td><td>6</td><td>6</td><td>70.000</td><td>70.000</td><td>90</td><td>B</td><td>I</td><td>2003yCat.2246....0C</td><td>B9V</td><td>D</td><td></td></tr>\n",
       "<tr><td>IC  430</td><td>05 38 18.24</td><td>-07 02 26.2</td><td>6</td><td>6</td><td>--</td><td>--</td><td>0</td><td>D</td><td></td><td>2003AJ....126.1423K</td><td>B7</td><td>D</td><td>2012A&amp;A...538A..64C</td></tr>\n",
       "<tr><td>BD-05  1310</td><td>05 35 03.62</td><td>-05 05 44.5</td><td>6</td><td>6</td><td>--</td><td>--</td><td>0</td><td>D</td><td></td><td>2003AJ....126.1423K</td><td>B9</td><td>D</td><td></td></tr>\n",
       "</table>"
      ],
      "text/plain": [
       "<Table masked=True length=35>\n",
       "    MAIN_ID           RA           DEC      ... SP_QUAL      SP_BIBCODE    \n",
       "                   \"h:m:s\"       \"d:m:s\"    ...                            \n",
       "     object         str13         str13     ...   str1         object      \n",
       "--------------- ------------- ------------- ... ------- -------------------\n",
       "  * tet01 Ori A   05 35 15.83   -05 23 14.1 ...       C 1977ApJS...34..115W\n",
       "      HD  37373 05 37 50.8329 -06 43 19.544 ...       D 1999MSS...C05....0H\n",
       "      HD  36982  05 35 09.836  -05 27 53.33 ...       C                    \n",
       "      HD 294264 05 35 13.3469 -04 51 44.947 ...       E 1995A&AS..110..367N\n",
       "      HD  36999 05 35 14.0093 -05 49 36.272 ...       D 1999MSS...C05....0H\n",
       "      HD  36783 05 33 52.1184 -06 36 56.317 ...       C 1999MSS...C05....0H\n",
       "      HD  37209 05 36 35.6933 -06 03 53.108 ...       C 2008ApJS..176..216A\n",
       "    * iot Ori B   05 35 26.45   -05 54 44.5 ...       C 2008ApJS..176..216A\n",
       "   V* V1133 Ori 05 36 30.9608 -06 27 13.869 ...       D 1999MSS...C05....0H\n",
       "            ...           ...           ... ...     ...                 ...\n",
       "        * c Ori 05 35 23.1642 -04 50 18.088 ...       C                    \n",
       "      HD  37174 05 36 27.1872 -05 24 31.316 ...       C 1999MSS...C05....0H\n",
       "  * tet01 Ori F 05 35 16.7236 -05 23 25.168 ...       D 1950ApJ...111...15H\n",
       "      HD  37303 05 37 27.3571 -05 56 18.207 ...       C 1999MSS...C05....0H\n",
       "      HD  36918 05 34 49.1241 -06 00 22.901 ...       D 2013ApJ...764..114H\n",
       "      HD  37150 05 36 15.0274 -05 38 52.524 ...       D 1999MSS...C05....0H\n",
       "TYC 4778-1230-1  05 36 48.622  -06 45 52.08 ...       D 2013ApJ...764..114H\n",
       "      HD  36919   05 34 48.68   -05 59 55.0 ...       D                    \n",
       "        IC  430   05 38 18.24   -07 02 26.2 ...       D 2012A&A...538A..64C\n",
       "    BD-05  1310   05 35 03.62   -05 05 44.5 ...       D                    "
      ]
     },
     "execution_count": 29,
     "metadata": {},
     "output_type": "execute_result"
    }
   ],
   "source": [
    "import astropy \n",
    "B_bool = np.array(['B' in s for s in stars_OBAF['SP_TYPE'].astype(str)])\n",
    "O_bool = np.array(['O' in s for s in stars_OBAF['SP_TYPE'].astype(str)])\n",
    "A_bool = np.array(['A' in s for s in stars_OBAF['SP_TYPE'].astype(str)])\n",
    "F_bool = np.array(['F' in s for s in stars_OBAF['SP_TYPE'].astype(str)])\n",
    "sp_letter_col = Co"
   ]
  },
  {
   "cell_type": "markdown",
   "metadata": {},
   "source": [
    "## Plot All OBAF Stars"
   ]
  },
  {
   "cell_type": "code",
   "execution_count": 18,
   "metadata": {
    "collapsed": false,
    "scrolled": true
   },
   "outputs": [
    {
     "name": "stdout",
     "output_type": "stream",
     "text": [
      "INFO: Auto-setting vmin to -4.826e+04 [aplpy.core]\n",
      "INFO: Auto-setting vmax to  4.035e+05 [aplpy.core]\n"
     ]
    },
    {
     "data": {
      "image/png": "[encoded data removed]",
      "text/plain": [
       "<matplotlib.figure.Figure at 0x1574d2128>"
      ]
     },
     "metadata": {},
     "output_type": "display_data"
    }
   ],
   "source": [
    "import shells\n",
    "fig = shells.plot_overview(cube=\"../nro_maps/12CO_20161002_FOREST-BEARS_spheroidal_xyb_grid7.5_0.099kms.fits\",\n",
    "                           mode='mom0', return_fig=True,\n",
    "                           circle_color='green', circle_linewidth=3, circle_style='solid')\n",
    "fig.show_markers(stars_coord[O_bool].ra, stars_coord[O_bool].dec, marker='+', layer='O', edgecolor='cyan', s=30, facecolor='cyan')\n",
    "fig.show_markers(stars_coord[B_bool].ra, stars_coord[B_bool].dec, marker='+', layer='B', edgecolor='magenta', s=20, facecolor='magenta')\n",
    "fig.show_markers(stars_coord[A_bool].ra, stars_coord[A_bool].dec, marker='+', layer='A', edgecolor='yellow', s=10, facecolor='yellow')\n",
    "fig.show_markers(stars_coord[F_bool].ra, stars_coord[F_bool].dec, marker='+', layer='F', edgecolor='red', s=2, facecolor='red')\n",
    "\n",
    "fig.add_colorbar()\n",
    "fig.colorbar.set_axis_label_text(\"K m/s\")\n",
    "fig.colorbar.set_axis_label_font(size=12)\n",
    "fig.set_tick_labels_xformat(\"hh:mm\")\n",
    "fig.set_tick_labels_yformat(\"dd\")\n",
    "fig.add_label(0.1, 0.95, \"O-stars\", relative=True, color='cyan')\n",
    "fig.add_label(0.1, 0.9, \"B-stars\", relative=True, color='magenta')\n",
    "fig.add_label(0.1, 0.85, \"A-stars\", relative=True, color='yellow')\n",
    "fig.add_label(0.1, 0.80, \"F-stars\", relative=True, color='red')\n",
    "fig.set_title(\"Integrated 12CO\")\n",
    "fig.set_nan_color('black')\n",
    "#fig.show_grayscale()"
   ]
  },
  {
   "cell_type": "code",
   "execution_count": 19,
   "metadata": {
    "collapsed": false
   },
   "outputs": [],
   "source": [
    "fig.save('obaf_12comom0.png', dpi=300)\n"
   ]
  },
  {
   "cell_type": "markdown",
   "metadata": {},
   "source": [
    "## Send O/B/A/F stars to Glue to search for additional shells."
   ]
  },
  {
   "cell_type": "code",
   "execution_count": 20,
   "metadata": {
    "collapsed": false
   },
   "outputs": [
    {
     "ename": "NameError",
     "evalue": "name 'Simbad' is not defined",
     "output_type": "error",
     "traceback": [
      "\u001b[0;31m---------------------------------------------------------------------------\u001b[0m",
      "\u001b[0;31mNameError\u001b[0m                                 Traceback (most recent call last)",
      "\u001b[0;32m<ipython-input-20-cb7ccc915c4f>\u001b[0m in \u001b[0;36m<module>\u001b[0;34m()\u001b[0m\n\u001b[1;32m      1\u001b[0m \u001b[0;32mimport\u001b[0m \u001b[0mastropy\u001b[0m\u001b[0;34m.\u001b[0m\u001b[0munits\u001b[0m \u001b[0;32mas\u001b[0m \u001b[0mu\u001b[0m\u001b[0;34m\u001b[0m\u001b[0m\n\u001b[1;32m      2\u001b[0m \u001b[0;32mimport\u001b[0m \u001b[0mastropy\u001b[0m\u001b[0;34m.\u001b[0m\u001b[0mcoordinates\u001b[0m \u001b[0;32mas\u001b[0m \u001b[0mcoord\u001b[0m\u001b[0;34m\u001b[0m\u001b[0m\n\u001b[0;32m----> 3\u001b[0;31m \u001b[0ms\u001b[0m \u001b[0;34m=\u001b[0m \u001b[0mSimbad\u001b[0m\u001b[0;34m(\u001b[0m\u001b[0;34m)\u001b[0m\u001b[0;34m\u001b[0m\u001b[0m\n\u001b[0m\u001b[1;32m      4\u001b[0m \u001b[0;31m#not dec > 84.4 & ra > -6.66\u001b[0m\u001b[0;34m\u001b[0m\u001b[0;34m\u001b[0m\u001b[0m\n\u001b[1;32m      5\u001b[0m \u001b[0ms\u001b[0m\u001b[0;34m.\u001b[0m\u001b[0madd_votable_fields\u001b[0m\u001b[0;34m(\u001b[0m\u001b[0;34m'sptype'\u001b[0m\u001b[0;34m)\u001b[0m\u001b[0;34m\u001b[0m\u001b[0m\n",
      "\u001b[0;31mNameError\u001b[0m: name 'Simbad' is not defined"
     ]
    }
   ],
   "source": [
    "import astropy.units as u\n",
    "import astropy.coordinates as coord\n",
    "s = Simbad()\n",
    "#not dec > 84.4 & ra > -6.66\n",
    "s.add_votable_fields('sptype')\n",
    "stars_OBAF = s.query_criteria(\"ra > {} & ra < {} & dec > {} & dec < {} & (ra < 84.4 | dec < -6.66) & sptypes < G0\".format(\n",
    "        ra_min.value, ra_max.value, dec_min.value, dec_max.value), otypes=\"Star\")\n",
    "\n",
    "c = coord.SkyCoord(stars_OBAF['RA'], stars_OBAF['DEC'], unit=(u.hourangle, u.degree))\n",
    "stars_OBAF['RA'] = c.ra.to(u.deg)\n",
    "stars_OBAF['DEC'] = c.dec.to(u.deg)\n",
    "B_bool = np.array(['B' in s for s in stars_OBAF['SP_TYPE'].astype(str)])\n",
    "O_bool = np.array(['O' in s for s in stars_OBAF['SP_TYPE'].astype(str)])\n",
    "A_bool = np.array(['A' in s for s in stars_OBAF['SP_TYPE'].astype(str)])\n",
    "F_bool = np.array(['F' in s for s in stars_OBAF['SP_TYPE'].astype(str)])"
   ]
  },
  {
   "cell_type": "code",
   "execution_count": 2,
   "metadata": {
    "collapsed": false
   },
   "outputs": [],
   "source": [
    "from glue import qglue\n",
    "from glue.qglue import parse_data\n",
    "from glue.core.data_factories import (load_data, astropy_tabular_data)\n",
    "from glue.core import DataCollection, Data\n",
    "from glue.core.link_helpers import LinkSame\n",
    "from glue.app.qt.application import GlueApplication\n",
    "from astropy.io import fits\n"
   ]
  },
  {
   "cell_type": "markdown",
   "metadata": {},
   "source": [
    "## Load Data into Glue and Link RA/DEC"
   ]
  },
  {
   "cell_type": "code",
   "execution_count": null,
   "metadata": {
    "collapsed": false
   },
   "outputs": [],
   "source": [
    "f12co = fits.open('../nro_maps/12CO_20161002_FOREST-BEARS_spheroidal_xyb_grid7.5_0.099kms.fits')\n",
    "f13co = fits.open('../nro_maps/13CO_20161011_FOREST-BEARS_xyb_spheroidal_dV0.11kms_YS.fits')\n",
    "f8micron = fits.open('../catalogs/IRAC_L1641_ch4_merged_clean.fits')\n",
    "f24micron = fits.open('../catalogs/MIPS_L1641a_24um.fits')\n",
    "\n",
    "nro_12co = parse_data(f12co, '')[0]\n",
    "nro_12co.label=\"NRO 12CO\"\n",
    "nro_13co = parse_data(f13co, '')[0]\n",
    "nro_13co.label=\"NRO 13CO\"\n",
    "irac_8micron = parse_data(f8micron, '')[0]\n",
    "irac_8micron.label = 'IRAC 8micron'\n",
    "mips_24micron = parse_data(f24micron, '')[0]\n",
    "mips_24micron.label = \"MIPS 24micron\"\n",
    "\n",
    "subset_bools = [O_bool, B_bool, A_bool, F_bool]\n",
    "subset_labels = ['o_stars', 'b_stars', 'a_stars', 'f_stars']\n",
    "\n",
    "o_stars = parse_data(stars_OBAF[O_bool], 'o stars')[0]\n",
    "b_stars = parse_data(stars_OBAF[B_bool], 'b stars')[0]\n",
    "a_stars = parse_data(stars_OBAF[A_bool], 'a stars')[0]\n",
    "f_stars = parse_data(stars_OBAF[F_bool], 'f stars')[0]\n",
    "\n",
    "f12co.close()\n",
    "f13co.close()\n",
    "f8micron.close()\n",
    "f24micron.close()\n",
    "\n",
    "dc = DataCollection([nro_12co, nro_13co, \n",
    "                     irac_8micron, mips_24micron,\n",
    "                     o_stars, b_stars, a_stars, f_stars])"
   ]
  },
  {
   "cell_type": "markdown",
   "metadata": {},
   "source": [
    "## Link RA/DEC"
   ]
  },
  {
   "cell_type": "code",
   "execution_count": null,
   "metadata": {
    "collapsed": false
   },
   "outputs": [],
   "source": [
    "for i in range(1, len(dc)):\n",
    "    try:\n",
    "        dc.add_link(LinkSame(dc[0].id['Right Ascension'], dc[i].id['Right Ascension']))\n",
    "        dc.add_link(LinkSame(dc[0].id['Declination'], dc[i].id['Declination']))\n",
    "    except KeyError: #When dc[i] refers to stars data.\n",
    "        dc.add_link(LinkSame(dc[0].id['Right Ascension'], dc[i].id['RA']))\n",
    "        dc.add_link(LinkSame(dc[0].id['Declination'], dc[i].id['DEC']))"
   ]
  },
  {
   "cell_type": "markdown",
   "metadata": {},
   "source": [
    "## Open Image Viewers and Overlay Stars"
   ]
  },
  {
   "cell_type": "code",
   "execution_count": null,
   "metadata": {
    "collapsed": false
   },
   "outputs": [],
   "source": [
    "from glue.viewers.scatter.qt import ScatterWidget\n",
    "from glue.viewers.image.qt import ImageWidget\n",
    "tab_labels = [\"12CO\", \"13CO\", \"8 micron\", \"24 micron\"]\n",
    "\n",
    "app = GlueApplication(dc)\n",
    "\n",
    "o_stars.style.color = 'cyan'\n",
    "b_stars.style.color = 'magenta'\n",
    "a_stars.style.color = 'yellow'\n",
    "f_stars.style.color = 'red'\n",
    "for i in range(len(tab_labels)):\n",
    "    if i > 0:\n",
    "        app.new_tab()\n",
    "    app.tab_widget.setTabText(i, tab_labels[i])\n",
    "    image = app.new_data_viewer(ImageWidget, dc[i])\n",
    "    image.add_layer(f_stars)\n",
    "    image.add_layer(a_stars)\n",
    "    image.add_layer(b_stars)\n",
    "    image.add_layer(o_stars)\n",
    "\n",
    "    \n",
    "#app.new_data_viewer(ImageWidget)\n",
    "#tabs = app.tab_widget()\n",
    "#for i in range(n_tabs):\n",
    "#app.new\n",
    "\n",
    "\n",
    "\n",
    "\n",
    "#image_12co = app.new_data_viewer(ImageWidget)\n",
    "#image_12co.add_data(dc[0])\n",
    "\n",
    "#app.tab_bar.addTab(\"13CO\")\n",
    "\n",
    "#app.tab_widget.setCurrentIndex(1)\n",
    "#app.tab(2)\n",
    "#app.tab_bar.currentIndex = 2\n",
    "\n",
    "#app.add_widget(ImageWidget, tab=1)\n",
    "\n",
    "#app.add_widget(ImageWidget)\n",
    "#app.new_data_viewer(ImageWidget, dc[0])\n",
    "\n",
    "\n",
    "#image_12co = app.new_data_viewer(ImageWidget)\n",
    "#image_12co.add_data(dc[0])\n",
    "\n"
   ]
  },
  {
   "cell_type": "code",
   "execution_count": null,
   "metadata": {
    "collapsed": false
   },
   "outputs": [],
   "source": [
    "app.start()"
   ]
  },
  {
   "cell_type": "markdown",
   "metadata": {
    "collapsed": false
   },
   "source": [
    "## Filter YSOs by K magnitude, focus search around brightest YSOs and OBA stars."
   ]
  },
  {
   "cell_type": "code",
   "execution_count": 19,
   "metadata": {
    "collapsed": false
   },
   "outputs": [
    {
     "name": "stdout",
     "output_type": "stream",
     "text": [
      "   _RAJ2000      _DEJ2000    Seq     RAJ2000    ... alpha  Cl _2M Simbad\n",
      "------------- -------------- ---- ------------- ... ----- --- --- ------\n",
      "    84.575625 -7.04063888889  670     84.575625 ...   nan  P   2M Simbad\n",
      "84.1059583333 -6.71594444444  796 84.1059583333 ...   nan  D   2M Simbad\n",
      "83.8219583333 -5.38797222222 1842 83.8219583333 ...   nan  D   2M Simbad\n",
      "   _RAJ2000      _DEJ2000    Seq     RAJ2000    ... alpha  Cl _2M Simbad\n",
      "------------- -------------- ---- ------------- ... ----- --- --- ------\n",
      "83.6957916667 -5.57072222222 1440 83.6957916667 ... -0.94  D   2M Simbad\n",
      "83.9600833333 -5.47622222222 1600 83.9600833333 ... -0.61  D   2M Simbad\n",
      "        83.86 -5.41688888889 1748         83.86 ... -0.98  D   2M Simbad\n",
      "83.8074583333 -5.36663888889 1913 83.8074583333 ...  0.25  P   2M Simbad\n",
      "83.8339166667 -5.22097222222 2237 83.8339166667 ...  0.93  P   2M Simbad\n",
      "   _RAJ2000       _DEJ2000    Seq     RAJ2000    ... alpha  Cl _2M Simbad\n",
      "------------- --------------- ---- ------------- ... ----- --- --- ------\n",
      "85.1555416667         -8.0675  383 85.1555416667 ... -0.47  D   2M Simbad\n",
      "85.4571666667  -8.00891666667  399 85.4571666667 ... -0.88  D   2M Simbad\n",
      "    84.744375  -7.27936111111  612     84.744375 ... -0.96  D   2M Simbad\n",
      "84.5386666667  -6.82133333333  760 84.5386666667 ... -0.05  D   2M Simbad\n",
      "84.4460416667  -6.70838888889  804 84.4460416667 ... -0.57  D   2M Simbad\n",
      "84.3051666667         -6.5835  838 84.3051666667 ... -0.37  D   2M Simbad\n",
      "84.2467916667         -6.1545 1031 84.2467916667 ... -0.35  D   2M Simbad\n",
      "83.9752916667  -5.62836111111 1358 83.9752916667 ... -1.94  D   2M Simbad\n",
      "    83.880625  -5.55241666667 1466     83.880625 ...  -0.3  D   2M Simbad\n",
      "83.7734166667  -5.42211111111 1732 83.7734166667 ... -0.16  D   2M Simbad\n",
      "          ...             ...  ...           ... ...   ... ... ...    ...\n",
      "      83.8385  -5.15447222222 2307       83.8385 ... -1.97  D   2M Simbad\n",
      "83.8055416667  -4.86244444444 2567 83.8055416667 ... -2.66  D   2M Simbad\n",
      "83.2377916667         -4.5665 2740 83.2377916667 ...  -2.7  D   2M Simbad\n",
      "       85.352  -2.37672222222 2831        85.352 ... -0.71  D   2M Simbad\n",
      "85.4459166667  -2.27713888889 2850 85.4459166667 ... -1.08  D   2M Simbad\n",
      "      85.4575  -1.90838888889 2962       85.4575 ... -0.66  D   2M Simbad\n",
      "85.4129166667        -1.86875 3036 85.4129166667 ...  0.22  P   2M Simbad\n",
      "    85.361875  -1.71277777778 3109     85.361875 ... -0.97  D   2M Simbad\n",
      "86.5794166667 0.0581944444444 3224 86.5794166667 ... -1.02  D   2M Simbad\n",
      "       86.899  0.644444444444 3430        86.899 ... -0.83  D   2M Simbad\n",
      "      86.9375  0.645027777778 3431       86.9375 ... -0.39  D   2M Simbad\n",
      "Length = 31 rows\n"
     ]
    },
    {
     "name": "stderr",
     "output_type": "stream",
     "text": [
      "//anaconda/lib/python3.4/site-packages/ipykernel/__main__.py:7: RuntimeWarning: invalid value encountered in greater_equal\n",
      "//anaconda/lib/python3.4/site-packages/ipykernel/__main__.py:7: RuntimeWarning: invalid value encountered in less\n"
     ]
    }
   ],
   "source": [
    "from astropy.io import fits\n",
    "from astropy.table import Table\n",
    "K_bins = [5, 6, 7, 8] #~half of YSOs are K < 13.\n",
    "yso_table = Table(fits.open('../catalogs/spitzer_orion.fit')[1].data)\n",
    "\n",
    "for i in range(len(K_bins) - 1):\n",
    "    yso = yso_table[(yso_table['Kmag'] >= K_bins[i]) & (yso_table['Kmag'] < K_bins[i+1])]\n",
    "    print(yso)\n",
    "    \n",
    "    \n",
    "#yso_table['Kmag'] > K_bins[0]\n",
    "\n",
    "#yso_table['Kmag']\n"
   ]
  },
  {
   "cell_type": "code",
   "execution_count": 13,
   "metadata": {
    "collapsed": false
   },
   "outputs": [],
   "source": []
  },
  {
   "cell_type": "code",
   "execution_count": null,
   "metadata": {
    "collapsed": true
   },
   "outputs": [],
   "source": []
  },
  {
   "cell_type": "code",
   "execution_count": null,
   "metadata": {
    "collapsed": true
   },
   "outputs": [],
   "source": []
  },
  {
   "cell_type": "code",
   "execution_count": null,
   "metadata": {
    "collapsed": true
   },
   "outputs": [],
   "source": []
  },
  {
   "cell_type": "code",
   "execution_count": null,
   "metadata": {
    "collapsed": true
   },
   "outputs": [],
   "source": []
  },
  {
   "cell_type": "code",
   "execution_count": null,
   "metadata": {
    "collapsed": true
   },
   "outputs": [],
   "source": []
  },
  {
   "cell_type": "code",
   "execution_count": null,
   "metadata": {
    "collapsed": true
   },
   "outputs": [],
   "source": []
  },
  {
   "cell_type": "code",
   "execution_count": null,
   "metadata": {
    "collapsed": true
   },
   "outputs": [],
   "source": []
  }
 ],
 "metadata": {
  "kernelspec": {
   "display_name": "Python 3",
   "language": "python",
   "name": "python3"
  },
  "language_info": {
   "codemirror_mode": {
    "name": "ipython",
    "version": 3
   },
   "file_extension": ".py",
   "mimetype": "text/x-python",
   "name": "python",
   "nbconvert_exporter": "python",
   "pygments_lexer": "ipython3",
   "version": "3.4.5"
  }
 },
 "nbformat": 4,
 "nbformat_minor": 0
}
