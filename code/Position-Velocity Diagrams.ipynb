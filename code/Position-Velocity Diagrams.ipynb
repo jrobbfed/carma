{
 "cells": [
  {
   "cell_type": "code",
   "execution_count": 118,
   "metadata": {
    "collapsed": false
   },
   "outputs": [
    {
     "name": "stdout",
     "output_type": "stream",
     "text": [
      "Populating the interactive namespace from numpy and matplotlib\n"
     ]
    },
    {
     "name": "stderr",
     "output_type": "stream",
     "text": [
      "//anaconda/lib/python3.4/site-packages/IPython/core/magics/pylab.py:161: UserWarning: pylab import has clobbered these variables: ['pv']\n",
      "`%matplotlib` prevents importing * from pylab and numpy\n",
      "  \"\\n`%matplotlib` prevents importing * from pylab and numpy\"\n"
     ]
    }
   ],
   "source": [
    "%pylab inline\n",
    "from shells import *"
   ]
  },
  {
   "cell_type": "code",
   "execution_count": 11,
   "metadata": {
    "collapsed": false
   },
   "outputs": [
    {
     "name": "stderr",
     "output_type": "stream",
     "text": [
      "WARNING: VerifyWarning: Invalid 'BLANK' keyword in header.  The 'BLANK' keyword is only applicable to integer data, and will be ignored in this HDU. [astropy.io.fits.hdu.image]\n",
      "WARNING: FITSFixedWarning: 'celfix' made the change 'Success'. [astropy.wcs.wcs]\n",
      "WARNING: FITSFixedWarning: 'spcfix' made the change 'Changed CTYPE3 from 'VELO-LSR' to 'VOPT', and SPECSYS to 'LSRK''. [astropy.wcs.wcs]\n",
      "/Users/jesse/carma/spectral-cube/spectral_cube/spectral_cube.py:238: UserWarning: radio_beam is not installed. No beam can be created.\n",
      "  warnings.warn(\"radio_beam is not installed. No beam \"\n",
      "/Users/jesse/carma/spectral-cube/spectral_cube/spectral_cube.py:246: UserWarning: Could not parse beam information from header.  Exception was: UnboundLocalError(\"local variable 'Beam' referenced before assignment\",)\n",
      "  \"  Exception was: {0}\".format(ex.__repr__()))\n"
     ]
    },
    {
     "name": "stdout",
     "output_type": "stream",
     "text": [
      "\n"
     ]
    }
   ],
   "source": [
    "region_file = '../nro_maps/SouthShells.reg'\n",
    "N = 1 # Number of shell candidates to plot\n",
    "shell_list = get_shells(region_file=region_file)\n",
    "cube_file = \"../nro_maps/12CO_20161002_FOREST-BEARS_spheroidal_xyb_grid7.5_0.099kms.fits\"\n",
    "for n in range(N):\n",
    "    shell = shell_list[n]\n",
    "    pv = pv_slice(cube=cube_file, ra_center=shell.ra, dec_center=shell.dec,\n",
    "    length=shell.radius*2., width=7.5*u.arcsec, angle=90*u.deg)"
   ]
  },
  {
   "cell_type": "code",
   "execution_count": 104,
   "metadata": {
    "collapsed": false
   },
   "outputs": [
    {
     "name": "stderr",
     "output_type": "stream",
     "text": [
      "//anaconda/lib/python3.4/site-packages/matplotlib/artist.py:221: MatplotlibDeprecationWarning: This has been deprecated in mpl 1.5, please use the\n",
      "axes property.  A removal date has not been set.\n",
      "  warnings.warn(_get_axes_msg, mplDeprecation, stacklevel=1)\n"
     ]
    },
    {
     "name": "stdout",
     "output_type": "stream",
     "text": [
      "0.03958333333327 7050.0\n",
      "INFO: Auto-setting vmin to -4.404e+00 [aplpy.core]\n",
      "INFO: Auto-setting vmax to  2.081e+01 [aplpy.core]\n"
     ]
    },
    {
     "data": {
      "image/png": "[encoded data removed]",
      "text/plain": [
       "<matplotlib.figure.Figure at 0x126380198>"
      ]
     },
     "metadata": {},
     "output_type": "display_data"
    }
   ],
   "source": [
    "fig = FITSFigure(pv)\n",
    "p_lim, v_lim = fig.pixel2world(list(fig._ax1.get_xlim()), list(fig._ax1.get_ylim()))\n",
    "p_unit = fig._header['CUNIT1']\n",
    "v_unit = fig._header['CUNIT2']\n",
    "\n",
    "#These are floats with the corresponding units of the figure axes.\n",
    "p_center = (p_lim[1] + p_lim[0]) / 2.\n",
    "v_center = ((shell.vmin + shell.vmax) / 2.).to(u.Unit(v_unit)).value\n",
    "p_range = p_lim[1] - p_lim[0]\n",
    "v_range = (shell.vmax - shell.vmin).to(u.Unit(v_unit)).value\n",
    "\n",
    "print(p_center, v_center)\n",
    "fig.recenter(p_center, v_center, width=p_range, height=v_range)\n",
    "fig.show_grayscale(aspect='auto')\n",
    "fig.tick_labels.set_xformat('%4.2f')"
   ]
  },
  {
   "cell_type": "code",
   "execution_count": 113,
   "metadata": {
    "collapsed": false
   },
   "outputs": [],
   "source": [
    "w = WCS(pv)\n",
    "w."
   ]
  },
  {
   "cell_type": "code",
   "execution_count": 95,
   "metadata": {
    "collapsed": false
   },
   "outputs": [
    {
     "data": {
      "text/plain": [
       "(0.0, -2851.5)"
      ]
     },
     "execution_count": 95,
     "metadata": {},
     "output_type": "execute_result"
    }
   ],
   "source": [
    "fig.pixel2world(1,2)"
   ]
  },
  {
   "cell_type": "code",
   "execution_count": 134,
   "metadata": {
    "collapsed": false
   },
   "outputs": [
    {
     "data": {
      "text/latex": [
       "[$-0^\\circ30{}^\\prime00{}^{\\prime\\prime}$\n",
       " $0^\\circ30{}^\\prime00{}^{\\prime\\prime}$]"
      ],
      "text/plain": [
       "<Latitude [-0.5, 0.5] deg>"
      ]
     },
     "execution_count": 134,
     "metadata": {},
     "output_type": "execute_result"
    }
   ],
   "source": [
    "from pvextractor import PathFromCenter, extract_pv_slice\n",
    "path = PathFromCenter(coord.SkyCoord(0*u.deg,0*u.deg), length=1*u.deg, angle=0*u.deg)\n",
    "path._coords.dec"
   ]
  },
  {
   "cell_type": "code",
   "execution_count": null,
   "metadata": {
    "collapsed": true
   },
   "outputs": [],
   "source": []
  }
 ],
 "metadata": {
  "kernelspec": {
   "display_name": "Python 3",
   "language": "python",
   "name": "python3"
  },
  "language_info": {
   "codemirror_mode": {
    "name": "ipython",
    "version": 3
   },
   "file_extension": ".py",
   "mimetype": "text/x-python",
   "name": "python",
   "nbconvert_exporter": "python",
   "pygments_lexer": "ipython3",
   "version": "3.4.5"
  }
 },
 "nbformat": 4,
 "nbformat_minor": 0
}
