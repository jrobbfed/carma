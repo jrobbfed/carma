{
 "cells": [
  {
   "cell_type": "markdown",
   "metadata": {},
   "source": [
    "## Use a Slider to interactively display channels from 3D cube.\n",
    "From http://nbarbey.github.io/2011/07/08/matplotlib-slider.html"
   ]
  },
  {
   "cell_type": "code",
   "execution_count": 73,
   "metadata": {
    "collapsed": true
   },
   "outputs": [],
   "source": [
    "def cube_show_slider(cube, axis=2, **kwargs):\n",
    "    \"\"\"\n",
    "    Display a 3d ndarray with a slider to move along the third dimension.\n",
    "\n",
    "    Extra keyword arguments are passed to imshow\n",
    "    \"\"\"\n",
    "    import matplotlib.pyplot as plt\n",
    "    from matplotlib.widgets import Slider, Button, RadioButtons\n",
    "\n",
    "    # check dim\n",
    "    if not cube.ndim == 3:\n",
    "        raise ValueError(\"cube should be an ndarray with ndim == 3\")\n",
    "\n",
    "    # generate figure\n",
    "    fig = plt.figure()\n",
    "    ax = plt.subplot(111)\n",
    "    fig.subplots_adjust(left=0.25, bottom=0.25)\n",
    "\n",
    "    # select first image\n",
    "    s = [slice(0, 1) if i == axis else slice(None) for i in range(3)]\n",
    "    im = cube[s].squeeze()\n",
    "\n",
    "    # display image\n",
    "    l = ax.imshow(im, **kwargs)\n",
    "\n",
    "    # define slider\n",
    "    axcolor = 'lightgoldenrodyellow'\n",
    "    ax = fig.add_axes([0.25, 0.1, 0.65, 0.03], axisbg=axcolor)\n",
    "\n",
    "    slider = Slider(ax, 'Axis %i index' % axis, 0, cube.shape[axis] - 1,\n",
    "                    valinit=0, valfmt='%i')\n",
    "\n",
    "    def update(val):\n",
    "        ind = int(slider.val)\n",
    "        s = [slice(ind, ind + 1) if i == axis else slice(None)\n",
    "                 for i in range(3)]\n",
    "        im = cube[s].squeeze()\n",
    "        l.set_data(im, **kwargs)\n",
    "        fig.canvas.draw()\n",
    "\n",
    "    slider.on_changed(update)\n",
    "\n",
    "    plt.show()"
   ]
  },
  {
   "cell_type": "code",
   "execution_count": 1,
   "metadata": {
    "collapsed": false
   },
   "outputs": [
    {
     "name": "stderr",
     "output_type": "stream",
     "text": [
      "WARNING: VerifyWarning: Invalid 'BLANK' keyword in header.  The 'BLANK' keyword is only applicable to integer data, and will be ignored in this HDU. [astropy.io.fits.hdu.image]\n",
      "WARNING: FITSFixedWarning: 'celfix' made the change 'Success'. [astropy.wcs.wcs]\n",
      "WARNING: FITSFixedWarning: 'spcfix' made the change 'Changed CTYPE3 from 'VELO-LSR' to 'VOPT', and SPECSYS to 'LSRK''. [astropy.wcs.wcs]\n",
      "/Users/jesse/carma/spectral-cube/spectral_cube/spectral_cube.py:238: UserWarning: radio_beam is not installed. No beam can be created.\n",
      "  warnings.warn(\"radio_beam is not installed. No beam \"\n",
      "/Users/jesse/carma/spectral-cube/spectral_cube/spectral_cube.py:246: UserWarning: Could not parse beam information from header.  Exception was: UnboundLocalError(\"local variable 'Beam' referenced before assignment\",)\n",
      "  \"  Exception was: {0}\".format(ex.__repr__()))\n"
     ]
    },
    {
     "data": {
      "text/latex": [
       "$-1168.5 \\; \\mathrm{\\frac{m}{s}}$"
      ],
      "text/plain": [
       "<Quantity -1168.5 m / s>"
      ]
     },
     "execution_count": 1,
     "metadata": {},
     "output_type": "execute_result"
    }
   ],
   "source": [
    "from astropy.io import fits\n",
    "from spectral_cube import SpectralCube\n",
    "cube = \"../nro_maps/12CO_20161002_FOREST-BEARS_spheroidal_xyb_grid7.5_0.099kms.fits\"\n",
    "spec_cube = SpectralCube.read(cube)\n",
    "hdu = fits.open(cube)[0]\n",
    "spec_cube.spectral_axis[18]"
   ]
  },
  {
   "cell_type": "markdown",
   "metadata": {},
   "source": [
    "## Use Aplpy with a Slider to make a nicer channel slicer."
   ]
  },
  {
   "cell_type": "code",
   "execution_count": 4,
   "metadata": {
    "collapsed": false
   },
   "outputs": [],
   "source": [
    "import shells\n",
    "shell_list = shells.get_shells()\n",
    "n = 8\n",
    "shell = shell_list[n]"
   ]
  },
  {
   "cell_type": "code",
   "execution_count": 26,
   "metadata": {
    "collapsed": false,
    "scrolled": true
   },
   "outputs": [],
   "source": [
    "from aplpy import FITSFigure\n",
    "import astropy.units as u\n",
    "import matplotlib.pyplot as plt\n",
    "import numpy as np\n",
    "from matplotlib.widgets import Slider, Button, RadioButtons\n",
    "\n",
    "cube = \"../nro_maps/12CO_20161002_FOREST-BEARS_spheroidal_xyb_grid7.5_0.099kms.fits\"\n",
    "chan = 100\n",
    "\n",
    "title = \"Shell \" + str(n+1) + \" - 12CO\"\n",
    "pad_factor = 2.\n",
    "stretch = 'linear'\n",
    "ra = shell.ra.value\n",
    "dec = shell.dec.value\n",
    "radius = shell.radius.value\n",
    "\n",
    "def channel_slicer(cube=None, ra=None, dec=None, radius=None,\n",
    "                   title=None, pad_factor=2., chan_init=0,\n",
    "                   stretch='linear', circle_color='blue',\n",
    "                   circle_style='-'):\n",
    "    spec_cube = SpectralCube.read(cube)\n",
    "    vel_list = spec_cube.spectral_axis\n",
    "\n",
    "    #For the auto color scaling to the min and max intensities in the zoomed region.\n",
    "    ra_grid = spec_cube.spatial_coordinate_map[1].to(u.deg).value\n",
    "    dec_grid = spec_cube.spatial_coordinate_map[0].to(u.deg).value\n",
    "    #shell_mask = (ra_grid - ra) ** 2. + (dec_grid - dec) ** 2. < (radius) ** 2.\n",
    "    subcube_mask = (abs(ra_grid - ra) < radius * pad_factor) &\\\n",
    "               (abs(dec_grid - dec) < radius * pad_factor)\n",
    "    sub_cube = spec_cube.with_mask(subcube_mask).minimal_subcube()\n",
    "\n",
    "    #auto color scaling\n",
    "    subcube_pixels = sub_cube[chan].value\n",
    "    vmin, vmax = np.nanmin(subcube_pixels), np.nanmax(subcube_pixels)\n",
    "    print(vmin, vmax)\n",
    "\n",
    "\n",
    "    #center plot on the shell\n",
    "    fig = plt.figure()\n",
    "    subplot = FITSFigure(sub_cube.hdu, figure=fig, slices=[chan], auto_refresh=True)\n",
    "    subplot.set_title(\"{} @ {}\".format(title, vel_list[chan]))\n",
    "    #subplot.recenter(ra, dec, radius*pad_factor)\n",
    "\n",
    "    #Make aplpy grayscale plot with nice color scaling/stretch\n",
    "    subplot.show_grayscale(stretch=stretch, vmin=vmin, vmax=vmax)     \n",
    "\n",
    "    subplot.tick_labels.set_yformat(\"dd:mm\")\n",
    "    subplot.tick_labels.set_xformat(\"hh:mm\")\n",
    "    subplot.tick_labels.set_style('plain')\n",
    "\n",
    "#Set up slider to change spectral channels.\n",
    "    axcolor = 'lightgoldenrodyellow'\n",
    "    ax = fig.add_axes([0.25, 0.95, 0.65, 0.03], axisbg=axcolor)\n",
    "    slider = Slider(ax, 'Channel', 0, hdu.data.shape[0] - 1,\n",
    "                    valinit=chan, valfmt='%i')\n",
    "\n",
    "    vel_label = subplot.add_label(0.9,0.9,\"{}\".format(vel_list[chan]), relative=True, layer='vel_label')\n",
    "\n",
    "    #Show the shell as circle.\n",
    "    subplot.show_circles(ra, dec, radius, edgecolor=circle_color)\n",
    "\n",
    "    def update(val):\n",
    "        ind = int(slider.val)\n",
    "        \n",
    "        #subplot = FITSFigure(hdu, figure=fig, slices=[chan], auto_refresh=True)\n",
    "        #subplot.recenter(ra, dec, radius*pad_factor)\n",
    "        #subplot.\n",
    "        subplot.set_title(\"{} @ {}\".format(title, vel_list[ind])) \n",
    "        subcube_pixels = sub_cube[ind].value\n",
    "        vmin, vmax = np.nanmin(subcube_pixels), np.nanmax(subcube_pixels)\n",
    "        subplot.image.set_clim(vmin, vmax)\n",
    "        subplot.image.set_data(sub_cube[ind].hdu.data)\n",
    "        \n",
    "        #fig.canvas.draw()\n",
    "        \n",
    "        #subplot.show_grayscale(stretch=stretch, vmin=vmin, vmax=vmax)\n",
    "        #subplot.set_data()\n",
    "        #fig.canvas.draw()\n",
    "\n",
    "#def write_velmin():\n",
    "#    current_chan = int(slider.val)\n",
    "#def write_velmax():\n",
    "#    current_chan = inte(slider.val)\n",
    "    \n",
    "        \n",
    "    slider.on_changed(update)\n",
    "\n",
    "#button_velmin.on_click(write_velmin)\n",
    "#button_velmax.on_click(write_velmax)\n",
    "\n",
    "    plt.show()"
   ]
  },
  {
   "cell_type": "code",
   "execution_count": 27,
   "metadata": {
    "collapsed": false
   },
   "outputs": [
    {
     "name": "stderr",
     "output_type": "stream",
     "text": [
      "WARNING: VerifyWarning: Invalid 'BLANK' keyword in header.  The 'BLANK' keyword is only applicable to integer data, and will be ignored in this HDU. [astropy.io.fits.hdu.image]\n",
      "WARNING: FITSFixedWarning: 'celfix' made the change 'Success'. [astropy.wcs.wcs]\n",
      "WARNING: FITSFixedWarning: 'spcfix' made the change 'Changed CTYPE3 from 'VELO-LSR' to 'VOPT', and SPECSYS to 'LSRK''. [astropy.wcs.wcs]\n",
      "/Users/jesse/carma/spectral-cube/spectral_cube/spectral_cube.py:238: UserWarning: radio_beam is not installed. No beam can be created.\n",
      "  warnings.warn(\"radio_beam is not installed. No beam \"\n",
      "/Users/jesse/carma/spectral-cube/spectral_cube/spectral_cube.py:246: UserWarning: Could not parse beam information from header.  Exception was: UnboundLocalError(\"local variable 'Beam' referenced before assignment\",)\n",
      "  \"  Exception was: {0}\".format(ex.__repr__()))\n"
     ]
    },
    {
     "name": "stdout",
     "output_type": "stream",
     "text": [
      "12.7157 26.7037\n"
     ]
    },
    {
     "name": "stderr",
     "output_type": "stream",
     "text": [
      "WARNING: A 'NAXIS1' keyword already exists in this header.  Inserting duplicate keyword. [astropy.io.fits.header]\n",
      "WARNING: A 'NAXIS3' keyword already exists in this header.  Inserting duplicate keyword. [astropy.io.fits.header]\n",
      "//anaconda/lib/python3.4/site-packages/matplotlib/artist.py:221: MatplotlibDeprecationWarning: This has been deprecated in mpl 1.5, please use the\n",
      "axes property.  A removal date has not been set.\n",
      "  warnings.warn(_get_axes_msg, mplDeprecation, stacklevel=1)\n"
     ]
    }
   ],
   "source": [
    "channel_slicer(cube=cube, ra=ra, dec=dec, radius=radius, title=title)"
   ]
  },
  {
   "cell_type": "code",
   "execution_count": null,
   "metadata": {
    "collapsed": true
   },
   "outputs": [],
   "source": []
  }
 ],
 "metadata": {
  "kernelspec": {
   "display_name": "Python 3",
   "language": "python",
   "name": "python3"
  },
  "language_info": {
   "codemirror_mode": {
    "name": "ipython",
    "version": 3
   },
   "file_extension": ".py",
   "mimetype": "text/x-python",
   "name": "python",
   "nbconvert_exporter": "python",
   "pygments_lexer": "ipython3",
   "version": "3.4.5"
  }
 },
 "nbformat": 4,
 "nbformat_minor": 0
}
